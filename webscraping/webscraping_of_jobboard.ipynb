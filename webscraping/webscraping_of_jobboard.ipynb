{
 "cells": [
  {
   "cell_type": "code",
   "execution_count": 1,
   "metadata": {},
   "outputs": [],
   "source": [
    "import pandas as pd\n",
    "import time\n",
    "from bs4 import BeautifulSoup\n",
    "from selenium import webdriver\n",
    "import chromedriver_binary"
   ]
  },
  {
   "cell_type": "code",
   "execution_count": 2,
   "metadata": {},
   "outputs": [
    {
     "data": {
      "text/html": [
       "<div>\n",
       "<style scoped>\n",
       "    .dataframe tbody tr th:only-of-type {\n",
       "        vertical-align: middle;\n",
       "    }\n",
       "\n",
       "    .dataframe tbody tr th {\n",
       "        vertical-align: top;\n",
       "    }\n",
       "\n",
       "    .dataframe thead th {\n",
       "        text-align: right;\n",
       "    }\n",
       "</style>\n",
       "<table border=\"1\" class=\"dataframe\">\n",
       "  <thead>\n",
       "    <tr style=\"text-align: right;\">\n",
       "      <th></th>\n",
       "      <th>type</th>\n",
       "      <th>link</th>\n",
       "    </tr>\n",
       "  </thead>\n",
       "  <tbody>\n",
       "    <tr>\n",
       "      <th>0</th>\n",
       "      <td>Accounting Jobs</td>\n",
       "      <td>https://www.naukri.com/accounting-jobs?xt=cats...</td>\n",
       "    </tr>\n",
       "    <tr>\n",
       "      <th>1</th>\n",
       "      <td>Interior Design Jobs</td>\n",
       "      <td>https://www.naukri.com/interior-design-jobs?xt...</td>\n",
       "    </tr>\n",
       "    <tr>\n",
       "      <th>2</th>\n",
       "      <td>Bank Jobs</td>\n",
       "      <td>https://www.naukri.com/bank-jobs?xt=catsrch&amp;qf...</td>\n",
       "    </tr>\n",
       "    <tr>\n",
       "      <th>3</th>\n",
       "      <td>Content Writing Jobs</td>\n",
       "      <td>https://www.naukri.com/content-writing-jobs?xt...</td>\n",
       "    </tr>\n",
       "    <tr>\n",
       "      <th>4</th>\n",
       "      <td>Consultant Jobs</td>\n",
       "      <td>https://www.naukri.com/consultant-jobs?xt=cats...</td>\n",
       "    </tr>\n",
       "  </tbody>\n",
       "</table>\n",
       "</div>"
      ],
      "text/plain": [
       "                   type                                               link\n",
       "0       Accounting Jobs  https://www.naukri.com/accounting-jobs?xt=cats...\n",
       "1  Interior Design Jobs  https://www.naukri.com/interior-design-jobs?xt...\n",
       "2             Bank Jobs  https://www.naukri.com/bank-jobs?xt=catsrch&qf...\n",
       "3  Content Writing Jobs  https://www.naukri.com/content-writing-jobs?xt...\n",
       "4       Consultant Jobs  https://www.naukri.com/consultant-jobs?xt=cats..."
      ]
     },
     "execution_count": 2,
     "metadata": {},
     "output_type": "execute_result"
    }
   ],
   "source": [
    "joblinks = pd.read_csv('link_by_areas.csv')\n",
    "joblinks.head()"
   ]
  },
  {
   "cell_type": "code",
   "execution_count": 3,
   "metadata": {},
   "outputs": [
    {
     "data": {
      "text/plain": [
       "['https://www.naukri.com/accounting-jobs?xt=catsrch&qf[]=1',\n",
       " 'https://www.naukri.com/interior-design-jobs?xt=catsrch&qf[]=2',\n",
       " 'https://www.naukri.com/bank-jobs?xt=catsrch&qf[]=6',\n",
       " 'https://www.naukri.com/content-writing-jobs?xt=catsrch&qf[]=5',\n",
       " 'https://www.naukri.com/consultant-jobs?xt=catsrch&qf[]=9',\n",
       " 'https://www.naukri.com/engineering-jobs?xt=catsrch&qf[]=21',\n",
       " 'https://www.naukri.com/export-import-jobs?xt=catsrch&qf[]=10',\n",
       " 'https://www.naukri.com/merchandiser-jobs?xt=catsrch&qf[]=10',\n",
       " 'https://www.naukri.com/security-jobs?xt=catsrch&qf[]=45',\n",
       " 'https://www.naukri.com/hr-jobs?xt=catsrch&qf[]=12',\n",
       " 'https://www.naukri.com/hotel-jobs?xt=catsrch&qf[]=4',\n",
       " 'https://www.naukri.com/application-programming-jobs?xt=catsrch&qf[]=24.01',\n",
       " 'https://www.naukri.com/client-server-jobs?xt=catsrch&qf[]=24.02',\n",
       " 'https://www.naukri.com/dba-jobs?xt=catsrch&qf[]=24.03',\n",
       " 'https://www.naukri.com/ecommerce-jobs?xt=catsrch&qf[]=24.12',\n",
       " 'https://www.naukri.com/erp-jobs?xt=catsrch&qf[]=24.04',\n",
       " 'https://www.naukri.com/vlsi-jobs?xt=catsrch&qf[]=24.05',\n",
       " 'https://www.naukri.com/mainframe-jobs?xt=catsrch&qf[]=24.13',\n",
       " 'https://www.naukri.com/middleware-jobs?xt=catsrch&qf[]=24.15',\n",
       " 'https://www.naukri.com/mobile-jobs?xt=catsrch&qf[]=24.14',\n",
       " 'https://www.naukri.com/network-administrator-jobs?xt=catsrch&qf[]=24.06',\n",
       " 'https://www.naukri.com/information-technology-jobs?xt=catsrch&qf[]=24',\n",
       " 'https://www.naukri.com/testing-jobs?xt=catsrch&qf[]=24.08',\n",
       " 'https://www.naukri.com/system-programming-jobs?xt=catsrch&qf[]=24.09',\n",
       " 'https://www.naukri.com/edp-jobs?xt=catsrch&qf[]=24.11',\n",
       " 'https://www.naukri.com/telecom-software-jobs?xt=catsrch&qf[]=24.10',\n",
       " 'https://www.naukri.com/telecom-jobs?xt=catsrch&qf[]=37',\n",
       " 'https://www.naukri.com/bpo-jobs?xt=catsrch&qf[]=8',\n",
       " 'https://www.naukri.com/legal-jobs?xt=catsrch&qf[]=13',\n",
       " 'https://www.naukri.com/marketing-jobs?xt=catsrch&qf[]=15',\n",
       " 'https://www.naukri.com/packaging-jobs?xt=catsrch&qf[]=18',\n",
       " 'https://www.naukri.com/pharma-jobs?xt=catsrch&qf[]=16',\n",
       " 'https://www.naukri.com/maintenance-jobs?xt=catsrch&qf[]=19',\n",
       " 'https://www.naukri.com/logistics-jobs?xt=catsrch&qf[]=14',\n",
       " 'https://www.naukri.com/sales-jobs?xt=catsrch&qf[]=22',\n",
       " 'https://www.naukri.com/secretary-jobs?xt=catsrch&qf[]=11',\n",
       " 'https://www.naukri.com/corporate-planning-jobs?xt=catsrch&qf[]=7',\n",
       " 'https://www.naukri.com/site-engineering-jobs?xt=catsrch&qf[]=20',\n",
       " 'https://www.naukri.com/film-jobs?xt=catsrch&qf[]=43',\n",
       " 'https://www.naukri.com/teaching-jobs?xt=catsrch&qf[]=36',\n",
       " 'https://www.naukri.com/airline-jobs?xt=catsrch&qf[]=44',\n",
       " 'https://www.naukri.com/graphic-designer-jobs?xt=catsrch&qf[]=3',\n",
       " 'https://www.naukri.com/shipping-jobs?xt=catsrch&qf[]=82',\n",
       " 'https://www.naukri.com/analytics-jobs?xt=catsrch&qf[]=81',\n",
       " 'https://www.naukri.com/business-intelligence-jobs?xt=catsrch&qf[]=81']"
      ]
     },
     "execution_count": 3,
     "metadata": {},
     "output_type": "execute_result"
    }
   ],
   "source": [
    "urls = joblinks['link'].to_list()\n",
    "urls"
   ]
  },
  {
   "cell_type": "code",
   "execution_count": 5,
   "metadata": {},
   "outputs": [],
   "source": [
    "# using yarl library (yet another url)\n",
    "import yarl\n",
    "from yarl import URL"
   ]
  },
  {
   "cell_type": "code",
   "execution_count": 12,
   "metadata": {},
   "outputs": [],
   "source": [
    "n = []\n",
    "m = []\n",
    "\n",
    "for i in urls:\n",
    "    n.append(URL(i).path)\n",
    "    m.append(URL(i).query_string)"
   ]
  },
  {
   "cell_type": "code",
   "execution_count": 15,
   "metadata": {},
   "outputs": [],
   "source": [
    "gen_urls = []\n",
    "\n",
    "for i in range(len(n)):\n",
    "    url = f'https://www.naukri.com/' + n[i] + '-{}?' + m[i]\n",
    "    gen_urls.append(url)"
   ]
  },
  {
   "cell_type": "code",
   "execution_count": 16,
   "metadata": {},
   "outputs": [
    {
     "data": {
      "text/plain": [
       "['https://www.naukri.com//accounting-jobs-{}?xt=catsrch&qf[]=1',\n",
       " 'https://www.naukri.com//interior-design-jobs-{}?xt=catsrch&qf[]=2',\n",
       " 'https://www.naukri.com//bank-jobs-{}?xt=catsrch&qf[]=6',\n",
       " 'https://www.naukri.com//content-writing-jobs-{}?xt=catsrch&qf[]=5',\n",
       " 'https://www.naukri.com//consultant-jobs-{}?xt=catsrch&qf[]=9',\n",
       " 'https://www.naukri.com//engineering-jobs-{}?xt=catsrch&qf[]=21',\n",
       " 'https://www.naukri.com//export-import-jobs-{}?xt=catsrch&qf[]=10',\n",
       " 'https://www.naukri.com//merchandiser-jobs-{}?xt=catsrch&qf[]=10',\n",
       " 'https://www.naukri.com//security-jobs-{}?xt=catsrch&qf[]=45',\n",
       " 'https://www.naukri.com//hr-jobs-{}?xt=catsrch&qf[]=12',\n",
       " 'https://www.naukri.com//hotel-jobs-{}?xt=catsrch&qf[]=4',\n",
       " 'https://www.naukri.com//application-programming-jobs-{}?xt=catsrch&qf[]=24.01',\n",
       " 'https://www.naukri.com//client-server-jobs-{}?xt=catsrch&qf[]=24.02',\n",
       " 'https://www.naukri.com//dba-jobs-{}?xt=catsrch&qf[]=24.03',\n",
       " 'https://www.naukri.com//ecommerce-jobs-{}?xt=catsrch&qf[]=24.12',\n",
       " 'https://www.naukri.com//erp-jobs-{}?xt=catsrch&qf[]=24.04',\n",
       " 'https://www.naukri.com//vlsi-jobs-{}?xt=catsrch&qf[]=24.05',\n",
       " 'https://www.naukri.com//mainframe-jobs-{}?xt=catsrch&qf[]=24.13',\n",
       " 'https://www.naukri.com//middleware-jobs-{}?xt=catsrch&qf[]=24.15',\n",
       " 'https://www.naukri.com//mobile-jobs-{}?xt=catsrch&qf[]=24.14',\n",
       " 'https://www.naukri.com//network-administrator-jobs-{}?xt=catsrch&qf[]=24.06',\n",
       " 'https://www.naukri.com//information-technology-jobs-{}?xt=catsrch&qf[]=24',\n",
       " 'https://www.naukri.com//testing-jobs-{}?xt=catsrch&qf[]=24.08',\n",
       " 'https://www.naukri.com//system-programming-jobs-{}?xt=catsrch&qf[]=24.09',\n",
       " 'https://www.naukri.com//edp-jobs-{}?xt=catsrch&qf[]=24.11',\n",
       " 'https://www.naukri.com//telecom-software-jobs-{}?xt=catsrch&qf[]=24.10',\n",
       " 'https://www.naukri.com//telecom-jobs-{}?xt=catsrch&qf[]=37',\n",
       " 'https://www.naukri.com//bpo-jobs-{}?xt=catsrch&qf[]=8',\n",
       " 'https://www.naukri.com//legal-jobs-{}?xt=catsrch&qf[]=13',\n",
       " 'https://www.naukri.com//marketing-jobs-{}?xt=catsrch&qf[]=15',\n",
       " 'https://www.naukri.com//packaging-jobs-{}?xt=catsrch&qf[]=18',\n",
       " 'https://www.naukri.com//pharma-jobs-{}?xt=catsrch&qf[]=16',\n",
       " 'https://www.naukri.com//maintenance-jobs-{}?xt=catsrch&qf[]=19',\n",
       " 'https://www.naukri.com//logistics-jobs-{}?xt=catsrch&qf[]=14',\n",
       " 'https://www.naukri.com//sales-jobs-{}?xt=catsrch&qf[]=22',\n",
       " 'https://www.naukri.com//secretary-jobs-{}?xt=catsrch&qf[]=11',\n",
       " 'https://www.naukri.com//corporate-planning-jobs-{}?xt=catsrch&qf[]=7',\n",
       " 'https://www.naukri.com//site-engineering-jobs-{}?xt=catsrch&qf[]=20',\n",
       " 'https://www.naukri.com//film-jobs-{}?xt=catsrch&qf[]=43',\n",
       " 'https://www.naukri.com//teaching-jobs-{}?xt=catsrch&qf[]=36',\n",
       " 'https://www.naukri.com//airline-jobs-{}?xt=catsrch&qf[]=44',\n",
       " 'https://www.naukri.com//graphic-designer-jobs-{}?xt=catsrch&qf[]=3',\n",
       " 'https://www.naukri.com//shipping-jobs-{}?xt=catsrch&qf[]=82',\n",
       " 'https://www.naukri.com//analytics-jobs-{}?xt=catsrch&qf[]=81',\n",
       " 'https://www.naukri.com//business-intelligence-jobs-{}?xt=catsrch&qf[]=81']"
      ]
     },
     "execution_count": 16,
     "metadata": {},
     "output_type": "execute_result"
    }
   ],
   "source": [
    "gen_urls"
   ]
  },
  {
   "cell_type": "markdown",
   "metadata": {},
   "source": [
    "## Creating a dataframe from scraped data"
   ]
  },
  {
   "cell_type": "code",
   "execution_count": null,
   "metadata": {},
   "outputs": [],
   "source": [
    "df = pd.DataFrame(columns=['Job_Title', 'Experience', 'Company', 'Scraping_Date', 'Salary', 'Location', 'Tags_Associated','Posting_Date'])"
   ]
  },
  {
   "cell_type": "code",
   "execution_count": null,
   "metadata": {},
   "outputs": [],
   "source": []
  }
 ],
 "metadata": {
  "kernelspec": {
   "display_name": "Python 3.10.4 ('pip_env')",
   "language": "python",
   "name": "python3"
  },
  "language_info": {
   "codemirror_mode": {
    "name": "ipython",
    "version": 3
   },
   "file_extension": ".py",
   "mimetype": "text/x-python",
   "name": "python",
   "nbconvert_exporter": "python",
   "pygments_lexer": "ipython3",
   "version": "3.10.4"
  },
  "orig_nbformat": 4,
  "vscode": {
   "interpreter": {
    "hash": "6bfde487b7068c7452acbc519e46294a0b346140fa3737a61e25c82885589230"
   }
  }
 },
 "nbformat": 4,
 "nbformat_minor": 2
}

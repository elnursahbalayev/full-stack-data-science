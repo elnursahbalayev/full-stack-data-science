{
 "cells": [
  {
   "cell_type": "code",
   "execution_count": 8,
   "metadata": {},
   "outputs": [],
   "source": [
    "import requests\n",
    "import bs4\n",
    "import pandas as pd\n"
   ]
  },
  {
   "cell_type": "code",
   "execution_count": 9,
   "metadata": {},
   "outputs": [],
   "source": [
    "data = requests.get('https://en.wikipedia.org/wiki/Artificial_intelligence')"
   ]
  },
  {
   "cell_type": "code",
   "execution_count": 10,
   "metadata": {},
   "outputs": [],
   "source": [
    "bsp = bs4.BeautifulSoup(data.text)"
   ]
  },
  {
   "cell_type": "code",
   "execution_count": 11,
   "metadata": {},
   "outputs": [
    {
     "data": {
      "text/plain": [
       "[<title>Artificial intelligence - Wikipedia</title>]"
      ]
     },
     "execution_count": 11,
     "metadata": {},
     "output_type": "execute_result"
    }
   ],
   "source": [
    "titles = bsp.select('title')\n",
    "titles"
   ]
  },
  {
   "cell_type": "code",
   "execution_count": 12,
   "metadata": {},
   "outputs": [
    {
     "data": {
      "text/plain": [
       "'Artificial intelligence - Wikipedia'"
      ]
     },
     "execution_count": 12,
     "metadata": {},
     "output_type": "execute_result"
    }
   ],
   "source": [
    "titles[0].getText()"
   ]
  },
  {
   "cell_type": "code",
   "execution_count": 13,
   "metadata": {},
   "outputs": [
    {
     "data": {
      "text/plain": [
       "[<h2 id=\"mw-toc-heading\">Contents</h2>,\n",
       " <h2><span class=\"mw-headline\" id=\"History\">History</span></h2>,\n",
       " <h2><span class=\"mw-headline\" id=\"Goals\">Goals</span></h2>,\n",
       " <h2><span class=\"mw-headline\" id=\"Tools\">Tools</span></h2>,\n",
       " <h2><span class=\"mw-headline\" id=\"Applications\">Applications</span></h2>,\n",
       " <h2><span class=\"mw-headline\" id=\"Philosophy\">Philosophy</span></h2>,\n",
       " <h2><span class=\"mw-headline\" id=\"Future\">Future</span></h2>,\n",
       " <h2><span class=\"mw-headline\" id=\"In_fiction\">In fiction</span></h2>,\n",
       " <h2><span class=\"mw-headline\" id=\"Scientific_diplomacy\">Scientific diplomacy</span></h2>,\n",
       " <h2><span class=\"mw-headline\" id=\"See_also\">See also</span></h2>,\n",
       " <h2><span class=\"mw-headline\" id=\"Explanatory_notes\">Explanatory notes</span></h2>,\n",
       " <h2><span class=\"mw-headline\" id=\"Citations\">Citations</span></h2>,\n",
       " <h2><span class=\"mw-headline\" id=\"References\">References</span></h2>,\n",
       " <h2><span class=\"mw-headline\" id=\"Further_reading\">Further reading</span></h2>,\n",
       " <h2><span class=\"mw-headline\" id=\"External_links\">External links</span></h2>,\n",
       " <h2>Navigation menu</h2>]"
      ]
     },
     "execution_count": 13,
     "metadata": {},
     "output_type": "execute_result"
    }
   ],
   "source": [
    "h2_tags = bsp.select('h2')\n",
    "h2_tags"
   ]
  },
  {
   "cell_type": "code",
   "execution_count": 14,
   "metadata": {},
   "outputs": [
    {
     "data": {
      "text/plain": [
       "[<h3><span id=\"Reasoning.2C_problem-solving\"></span><span class=\"mw-headline\" id=\"Reasoning,_problem-solving\">Reasoning, problem-solving</span></h3>,\n",
       " <h3><span class=\"mw-headline\" id=\"Knowledge_representation\">Knowledge representation</span></h3>,\n",
       " <h3><span class=\"mw-headline\" id=\"Planning\">Planning</span></h3>,\n",
       " <h3><span class=\"mw-headline\" id=\"Learning\">Learning</span></h3>,\n",
       " <h3><span class=\"mw-headline\" id=\"Natural_language_processing\">Natural language processing</span></h3>,\n",
       " <h3><span class=\"mw-headline\" id=\"Perception\">Perception</span></h3>,\n",
       " <h3><span class=\"mw-headline\" id=\"Motion_and_manipulation\">Motion and manipulation</span></h3>,\n",
       " <h3><span class=\"mw-headline\" id=\"Social_intelligence\">Social intelligence</span></h3>,\n",
       " <h3><span class=\"mw-headline\" id=\"General_intelligence\">General intelligence</span></h3>,\n",
       " <h3><span class=\"mw-headline\" id=\"Search_and_optimization\">Search and optimization</span></h3>,\n",
       " <h3><span class=\"mw-headline\" id=\"Logic\">Logic</span></h3>,\n",
       " <h3><span class=\"mw-headline\" id=\"Probabilistic_methods_for_uncertain_reasoning\">Probabilistic methods for uncertain reasoning</span></h3>,\n",
       " <h3><span class=\"mw-headline\" id=\"Classifiers_and_statistical_learning_methods\">Classifiers and statistical learning methods</span></h3>,\n",
       " <h3><span class=\"mw-headline\" id=\"Artificial_neural_networks\">Artificial neural networks</span></h3>,\n",
       " <h3><span class=\"mw-headline\" id=\"Specialized_languages_and_hardware\">Specialized languages and hardware</span></h3>,\n",
       " <h3><span class=\"mw-headline\" id=\"Defining_artificial_intelligence\">Defining artificial intelligence</span></h3>,\n",
       " <h3><span class=\"mw-headline\" id=\"Evaluating_approaches_to_AI\">Evaluating approaches to AI</span></h3>,\n",
       " <h3><span id=\"Machine_consciousness.2C_sentience_and_mind\"></span><span class=\"mw-headline\" id=\"Machine_consciousness,_sentience_and_mind\">Machine consciousness, sentience and mind</span></h3>,\n",
       " <h3><span class=\"mw-headline\" id=\"Superintelligence\">Superintelligence</span></h3>,\n",
       " <h3><span class=\"mw-headline\" id=\"Risks\">Risks</span></h3>,\n",
       " <h3><span class=\"mw-headline\" id=\"Ethical_machines\">Ethical machines</span></h3>,\n",
       " <h3><span class=\"mw-headline\" id=\"Regulation\">Regulation</span></h3>,\n",
       " <h3><span class=\"mw-headline\" id=\"Warfare\">Warfare</span></h3>,\n",
       " <h3><span class=\"mw-headline\" id=\"Cybersecurity\">Cybersecurity</span></h3>,\n",
       " <h3><span class=\"mw-headline\" id=\"Election_security\">Election security</span></h3>,\n",
       " <h3><span class=\"mw-headline\" id=\"Future_of_work\">Future of work</span></h3>,\n",
       " <h3><span class=\"mw-headline\" id=\"AI_and_foreign_policy\">AI and foreign policy</span></h3>,\n",
       " <h3><span class=\"mw-headline\" id=\"AI_textbooks\">AI textbooks</span></h3>,\n",
       " <h3><span class=\"mw-headline\" id=\"History_of_AI\">History of AI</span></h3>,\n",
       " <h3><span class=\"mw-headline\" id=\"Other_sources\">Other sources</span></h3>,\n",
       " <h3 class=\"vector-menu-heading\" id=\"p-personal-label\">\n",
       " <span class=\"vector-menu-heading-label\">Personal tools</span>\n",
       " </h3>,\n",
       " <h3 class=\"vector-menu-heading\" id=\"p-namespaces-label\">\n",
       " <span class=\"vector-menu-heading-label\">Namespaces</span>\n",
       " </h3>,\n",
       " <h3 class=\"vector-menu-heading\" id=\"p-views-label\">\n",
       " <span class=\"vector-menu-heading-label\">Views</span>\n",
       " </h3>,\n",
       " <h3>\n",
       " <label for=\"searchInput\">Search</label>\n",
       " </h3>,\n",
       " <h3 class=\"vector-menu-heading\" id=\"p-navigation-label\">\n",
       " <span class=\"vector-menu-heading-label\">Navigation</span>\n",
       " </h3>,\n",
       " <h3 class=\"vector-menu-heading\" id=\"p-interaction-label\">\n",
       " <span class=\"vector-menu-heading-label\">Contribute</span>\n",
       " </h3>,\n",
       " <h3 class=\"vector-menu-heading\" id=\"p-tb-label\">\n",
       " <span class=\"vector-menu-heading-label\">Tools</span>\n",
       " </h3>,\n",
       " <h3 class=\"vector-menu-heading\" id=\"p-coll-print_export-label\">\n",
       " <span class=\"vector-menu-heading-label\">Print/export</span>\n",
       " </h3>,\n",
       " <h3 class=\"vector-menu-heading\" id=\"p-wikibase-otherprojects-label\">\n",
       " <span class=\"vector-menu-heading-label\">In other projects</span>\n",
       " </h3>,\n",
       " <h3 class=\"vector-menu-heading\" id=\"p-lang-label\">\n",
       " <span class=\"vector-menu-heading-label\">Languages</span>\n",
       " </h3>]"
      ]
     },
     "execution_count": 14,
     "metadata": {},
     "output_type": "execute_result"
    }
   ],
   "source": [
    "h3_tags = bsp.select('h3')\n",
    "h3_tags"
   ]
  },
  {
   "cell_type": "code",
   "execution_count": 15,
   "metadata": {},
   "outputs": [
    {
     "name": "stdout",
     "output_type": "stream",
     "text": [
      "Contents\n",
      "History\n",
      "Goals\n",
      "Tools\n",
      "Applications\n",
      "Philosophy\n",
      "Future\n",
      "In fiction\n",
      "Scientific diplomacy\n",
      "See also\n",
      "Explanatory notes\n",
      "Citations\n",
      "References\n",
      "Further reading\n",
      "External links\n",
      "Navigation menu\n"
     ]
    }
   ],
   "source": [
    "for i in h2_tags:\n",
    "    print(i.getText())"
   ]
  },
  {
   "cell_type": "code",
   "execution_count": 16,
   "metadata": {},
   "outputs": [
    {
     "name": "stdout",
     "output_type": "stream",
     "text": [
      "Reasoning, problem-solving\n",
      "Knowledge representation\n",
      "Planning\n",
      "Learning\n",
      "Natural language processing\n",
      "Perception\n",
      "Motion and manipulation\n",
      "Social intelligence\n",
      "General intelligence\n",
      "Search and optimization\n",
      "Logic\n",
      "Probabilistic methods for uncertain reasoning\n",
      "Classifiers and statistical learning methods\n",
      "Artificial neural networks\n",
      "Specialized languages and hardware\n",
      "Defining artificial intelligence\n",
      "Evaluating approaches to AI\n",
      "Machine consciousness, sentience and mind\n",
      "Superintelligence\n",
      "Risks\n",
      "Ethical machines\n",
      "Regulation\n",
      "Warfare\n",
      "Cybersecurity\n",
      "Election security\n",
      "Future of work\n",
      "AI and foreign policy\n",
      "AI textbooks\n",
      "History of AI\n",
      "Other sources\n",
      "\n",
      "Personal tools\n",
      "\n",
      "\n",
      "Namespaces\n",
      "\n",
      "\n",
      "Views\n",
      "\n",
      "\n",
      "Search\n",
      "\n",
      "\n",
      "Navigation\n",
      "\n",
      "\n",
      "Contribute\n",
      "\n",
      "\n",
      "Tools\n",
      "\n",
      "\n",
      "Print/export\n",
      "\n",
      "\n",
      "In other projects\n",
      "\n",
      "\n",
      "Languages\n",
      "\n"
     ]
    }
   ],
   "source": [
    "for i in h3_tags:\n",
    "    print(i.getText())"
   ]
  },
  {
   "cell_type": "code",
   "execution_count": 17,
   "metadata": {},
   "outputs": [
    {
     "data": {
      "text/plain": [
       "'Philosophy'"
      ]
     },
     "execution_count": 17,
     "metadata": {},
     "output_type": "execute_result"
    }
   ],
   "source": [
    "h2_tags[5].text"
   ]
  },
  {
   "cell_type": "code",
   "execution_count": 18,
   "metadata": {},
   "outputs": [
    {
     "data": {
      "text/plain": [
       "[<span id=\"Reasoning.2C_problem-solving\"></span>,\n",
       " <span class=\"mw-headline\" id=\"Reasoning,_problem-solving\">Reasoning, problem-solving</span>,\n",
       " <span class=\"mw-headline\" id=\"Knowledge_representation\">Knowledge representation</span>,\n",
       " <span class=\"mw-headline\" id=\"Planning\">Planning</span>,\n",
       " <span class=\"mw-headline\" id=\"Learning\">Learning</span>,\n",
       " <span class=\"mw-headline\" id=\"Natural_language_processing\">Natural language processing</span>,\n",
       " <span class=\"mw-headline\" id=\"Perception\">Perception</span>,\n",
       " <span class=\"mw-headline\" id=\"Motion_and_manipulation\">Motion and manipulation</span>,\n",
       " <span class=\"mw-headline\" id=\"Social_intelligence\">Social intelligence</span>,\n",
       " <span class=\"mw-headline\" id=\"General_intelligence\">General intelligence</span>,\n",
       " <span class=\"mw-headline\" id=\"Search_and_optimization\">Search and optimization</span>,\n",
       " <span class=\"mw-headline\" id=\"Logic\">Logic</span>,\n",
       " <span class=\"mw-headline\" id=\"Probabilistic_methods_for_uncertain_reasoning\">Probabilistic methods for uncertain reasoning</span>,\n",
       " <span class=\"mw-headline\" id=\"Classifiers_and_statistical_learning_methods\">Classifiers and statistical learning methods</span>,\n",
       " <span class=\"mw-headline\" id=\"Artificial_neural_networks\">Artificial neural networks</span>,\n",
       " <span class=\"mw-headline\" id=\"Specialized_languages_and_hardware\">Specialized languages and hardware</span>,\n",
       " <span class=\"mw-headline\" id=\"Defining_artificial_intelligence\">Defining artificial intelligence</span>,\n",
       " <span class=\"mw-headline\" id=\"Evaluating_approaches_to_AI\">Evaluating approaches to AI</span>,\n",
       " <span id=\"Machine_consciousness.2C_sentience_and_mind\"></span>,\n",
       " <span class=\"mw-headline\" id=\"Machine_consciousness,_sentience_and_mind\">Machine consciousness, sentience and mind</span>,\n",
       " <span class=\"mw-headline\" id=\"Superintelligence\">Superintelligence</span>,\n",
       " <span class=\"mw-headline\" id=\"Risks\">Risks</span>,\n",
       " <span class=\"mw-headline\" id=\"Ethical_machines\">Ethical machines</span>,\n",
       " <span class=\"mw-headline\" id=\"Regulation\">Regulation</span>,\n",
       " <span class=\"mw-headline\" id=\"Warfare\">Warfare</span>,\n",
       " <span class=\"mw-headline\" id=\"Cybersecurity\">Cybersecurity</span>,\n",
       " <span class=\"mw-headline\" id=\"Election_security\">Election security</span>,\n",
       " <span class=\"mw-headline\" id=\"Future_of_work\">Future of work</span>,\n",
       " <span class=\"mw-headline\" id=\"AI_and_foreign_policy\">AI and foreign policy</span>,\n",
       " <span class=\"mw-headline\" id=\"AI_textbooks\">AI textbooks</span>,\n",
       " <span class=\"mw-headline\" id=\"History_of_AI\">History of AI</span>,\n",
       " <span class=\"mw-headline\" id=\"Other_sources\">Other sources</span>,\n",
       " <span class=\"vector-menu-heading-label\">Personal tools</span>,\n",
       " <span class=\"vector-menu-heading-label\">Namespaces</span>,\n",
       " <span class=\"vector-menu-heading-label\">Views</span>,\n",
       " <span class=\"vector-menu-heading-label\">Navigation</span>,\n",
       " <span class=\"vector-menu-heading-label\">Contribute</span>,\n",
       " <span class=\"vector-menu-heading-label\">Tools</span>,\n",
       " <span class=\"vector-menu-heading-label\">Print/export</span>,\n",
       " <span class=\"vector-menu-heading-label\">In other projects</span>,\n",
       " <span class=\"vector-menu-heading-label\">Languages</span>]"
      ]
     },
     "execution_count": 18,
     "metadata": {},
     "output_type": "execute_result"
    }
   ],
   "source": [
    "bsp.select('h3 > span')"
   ]
  },
  {
   "cell_type": "code",
   "execution_count": 19,
   "metadata": {},
   "outputs": [
    {
     "data": {
      "text/plain": [
       "[<link href=\"/w/load.php?lang=en&amp;modules=ext.cite.styles%7Cext.uls.interlanguage%7Cext.visualEditor.desktopArticleTarget.noscript%7Cext.wikimediaBadges%7Cjquery.makeCollapsible.styles%7Cskins.vector.styles.legacy%7Cwikibase.client.init&amp;only=styles&amp;skin=vector\" rel=\"stylesheet\"/>,\n",
       " <link href=\"/w/load.php?lang=en&amp;modules=site.styles&amp;only=styles&amp;skin=vector\" rel=\"stylesheet\"/>,\n",
       " <link href=\"//upload.wikimedia.org\" rel=\"preconnect\"/>,\n",
       " <link href=\"//en.m.wikipedia.org/wiki/Artificial_intelligence\" media=\"only screen and (max-width: 720px)\" rel=\"alternate\"/>,\n",
       " <link href=\"/static/apple-touch/wikipedia.png\" rel=\"apple-touch-icon\"/>,\n",
       " <link href=\"/static/favicon/wikipedia.ico\" rel=\"icon\"/>,\n",
       " <link href=\"/w/opensearch_desc.php\" rel=\"search\" title=\"Wikipedia (en)\" type=\"application/opensearchdescription+xml\"/>,\n",
       " <link href=\"//en.wikipedia.org/w/api.php?action=rsd\" rel=\"EditURI\" type=\"application/rsd+xml\"/>,\n",
       " <link href=\"https://creativecommons.org/licenses/by-sa/3.0/\" rel=\"license\"/>,\n",
       " <link href=\"https://en.wikipedia.org/wiki/Artificial_intelligence\" rel=\"canonical\"/>,\n",
       " <link href=\"//meta.wikimedia.org\" rel=\"dns-prefetch\"/>,\n",
       " <link href=\"//login.wikimedia.org\" rel=\"dns-prefetch\"/>,\n",
       " <link href=\"mw-data:TemplateStyles:r1033289096\" rel=\"mw-deduplicated-inline-style\"/>,\n",
       " <link href=\"mw-data:TemplateStyles:r1033289096\" rel=\"mw-deduplicated-inline-style\"/>,\n",
       " <link href=\"mw-data:TemplateStyles:r1033289096\" rel=\"mw-deduplicated-inline-style\"/>,\n",
       " <link href=\"mw-data:TemplateStyles:r1033289096\" rel=\"mw-deduplicated-inline-style\"/>,\n",
       " <link href=\"mw-data:TemplateStyles:r1033289096\" rel=\"mw-deduplicated-inline-style\"/>,\n",
       " <link href=\"mw-data:TemplateStyles:r1033289096\" rel=\"mw-deduplicated-inline-style\"/>,\n",
       " <link href=\"mw-data:TemplateStyles:r1033289096\" rel=\"mw-deduplicated-inline-style\"/>,\n",
       " <link href=\"mw-data:TemplateStyles:r1033289096\" rel=\"mw-deduplicated-inline-style\"/>,\n",
       " <link href=\"mw-data:TemplateStyles:r1033289096\" rel=\"mw-deduplicated-inline-style\"/>,\n",
       " <link href=\"mw-data:TemplateStyles:r1033289096\" rel=\"mw-deduplicated-inline-style\"/>,\n",
       " <link href=\"mw-data:TemplateStyles:r1033289096\" rel=\"mw-deduplicated-inline-style\"/>,\n",
       " <link href=\"mw-data:TemplateStyles:r1033289096\" rel=\"mw-deduplicated-inline-style\"/>,\n",
       " <link href=\"mw-data:TemplateStyles:r1033289096\" rel=\"mw-deduplicated-inline-style\"/>,\n",
       " <link href=\"mw-data:TemplateStyles:r1033289096\" rel=\"mw-deduplicated-inline-style\"/>,\n",
       " <link href=\"mw-data:TemplateStyles:r1033289096\" rel=\"mw-deduplicated-inline-style\"/>,\n",
       " <link href=\"mw-data:TemplateStyles:r1033289096\" rel=\"mw-deduplicated-inline-style\"/>,\n",
       " <link href=\"mw-data:TemplateStyles:r1033289096\" rel=\"mw-deduplicated-inline-style\"/>,\n",
       " <link href=\"mw-data:TemplateStyles:r1033289096\" rel=\"mw-deduplicated-inline-style\"/>,\n",
       " <link href=\"mw-data:TemplateStyles:r1033289096\" rel=\"mw-deduplicated-inline-style\"/>,\n",
       " <link href=\"mw-data:TemplateStyles:r1033289096\" rel=\"mw-deduplicated-inline-style\"/>,\n",
       " <link href=\"mw-data:TemplateStyles:r1033289096\" rel=\"mw-deduplicated-inline-style\"/>,\n",
       " <link href=\"mw-data:TemplateStyles:r1033289096\" rel=\"mw-deduplicated-inline-style\"/>,\n",
       " <link href=\"mw-data:TemplateStyles:r1033289096\" rel=\"mw-deduplicated-inline-style\"/>,\n",
       " <link href=\"mw-data:TemplateStyles:r1033289096\" rel=\"mw-deduplicated-inline-style\"/>,\n",
       " <link href=\"mw-data:TemplateStyles:r1033289096\" rel=\"mw-deduplicated-inline-style\"/>,\n",
       " <link href=\"mw-data:TemplateStyles:r1033289096\" rel=\"mw-deduplicated-inline-style\"/>,\n",
       " <link href=\"mw-data:TemplateStyles:r1033289096\" rel=\"mw-deduplicated-inline-style\"/>,\n",
       " <link href=\"mw-data:TemplateStyles:r1033289096\" rel=\"mw-deduplicated-inline-style\"/>,\n",
       " <link href=\"mw-data:TemplateStyles:r1033289096\" rel=\"mw-deduplicated-inline-style\"/>,\n",
       " <link href=\"mw-data:TemplateStyles:r1033289096\" rel=\"mw-deduplicated-inline-style\"/>,\n",
       " <link href=\"mw-data:TemplateStyles:r1033289096\" rel=\"mw-deduplicated-inline-style\"/>,\n",
       " <link href=\"mw-data:TemplateStyles:r1033289096\" rel=\"mw-deduplicated-inline-style\"/>,\n",
       " <link href=\"mw-data:TemplateStyles:r1033289096\" rel=\"mw-deduplicated-inline-style\"/>,\n",
       " <link href=\"mw-data:TemplateStyles:r1033289096\" rel=\"mw-deduplicated-inline-style\"/>,\n",
       " <link href=\"mw-data:TemplateStyles:r1033289096\" rel=\"mw-deduplicated-inline-style\"/>,\n",
       " <link href=\"mw-data:TemplateStyles:r1011085734\" rel=\"mw-deduplicated-inline-style\"/>,\n",
       " <link href=\"mw-data:TemplateStyles:r1067248974\" rel=\"mw-deduplicated-inline-style\"/>,\n",
       " <link href=\"mw-data:TemplateStyles:r1067248974\" rel=\"mw-deduplicated-inline-style\"/>,\n",
       " <link href=\"mw-data:TemplateStyles:r1067248974\" rel=\"mw-deduplicated-inline-style\"/>,\n",
       " <link href=\"mw-data:TemplateStyles:r1067248974\" rel=\"mw-deduplicated-inline-style\"/>,\n",
       " <link href=\"mw-data:TemplateStyles:r1067248974\" rel=\"mw-deduplicated-inline-style\"/>,\n",
       " <link href=\"mw-data:TemplateStyles:r1067248974\" rel=\"mw-deduplicated-inline-style\"/>,\n",
       " <link href=\"mw-data:TemplateStyles:r1067248974\" rel=\"mw-deduplicated-inline-style\"/>,\n",
       " <link href=\"mw-data:TemplateStyles:r1067248974\" rel=\"mw-deduplicated-inline-style\"/>,\n",
       " <link href=\"mw-data:TemplateStyles:r1067248974\" rel=\"mw-deduplicated-inline-style\"/>,\n",
       " <link href=\"mw-data:TemplateStyles:r1067248974\" rel=\"mw-deduplicated-inline-style\"/>,\n",
       " <link href=\"mw-data:TemplateStyles:r1067248974\" rel=\"mw-deduplicated-inline-style\"/>,\n",
       " <link href=\"mw-data:TemplateStyles:r1067248974\" rel=\"mw-deduplicated-inline-style\"/>,\n",
       " <link href=\"mw-data:TemplateStyles:r1067248974\" rel=\"mw-deduplicated-inline-style\"/>,\n",
       " <link href=\"mw-data:TemplateStyles:r1067248974\" rel=\"mw-deduplicated-inline-style\"/>,\n",
       " <link href=\"mw-data:TemplateStyles:r1067248974\" rel=\"mw-deduplicated-inline-style\"/>,\n",
       " <link href=\"mw-data:TemplateStyles:r1067248974\" rel=\"mw-deduplicated-inline-style\"/>,\n",
       " <link href=\"mw-data:TemplateStyles:r1067248974\" rel=\"mw-deduplicated-inline-style\"/>,\n",
       " <link href=\"mw-data:TemplateStyles:r1067248974\" rel=\"mw-deduplicated-inline-style\"/>,\n",
       " <link href=\"mw-data:TemplateStyles:r1067248974\" rel=\"mw-deduplicated-inline-style\"/>,\n",
       " <link href=\"mw-data:TemplateStyles:r1067248974\" rel=\"mw-deduplicated-inline-style\"/>,\n",
       " <link href=\"mw-data:TemplateStyles:r1067248974\" rel=\"mw-deduplicated-inline-style\"/>,\n",
       " <link href=\"mw-data:TemplateStyles:r1067248974\" rel=\"mw-deduplicated-inline-style\"/>,\n",
       " <link href=\"mw-data:TemplateStyles:r1067248974\" rel=\"mw-deduplicated-inline-style\"/>,\n",
       " <link href=\"mw-data:TemplateStyles:r1067248974\" rel=\"mw-deduplicated-inline-style\"/>,\n",
       " <link href=\"mw-data:TemplateStyles:r1067248974\" rel=\"mw-deduplicated-inline-style\"/>,\n",
       " <link href=\"mw-data:TemplateStyles:r1067248974\" rel=\"mw-deduplicated-inline-style\"/>,\n",
       " <link href=\"mw-data:TemplateStyles:r1067248974\" rel=\"mw-deduplicated-inline-style\"/>,\n",
       " <link href=\"mw-data:TemplateStyles:r1067248974\" rel=\"mw-deduplicated-inline-style\"/>,\n",
       " <link href=\"mw-data:TemplateStyles:r1067248974\" rel=\"mw-deduplicated-inline-style\"/>,\n",
       " <link href=\"mw-data:TemplateStyles:r1067248974\" rel=\"mw-deduplicated-inline-style\"/>,\n",
       " <link href=\"mw-data:TemplateStyles:r1067248974\" rel=\"mw-deduplicated-inline-style\"/>,\n",
       " <link href=\"mw-data:TemplateStyles:r1067248974\" rel=\"mw-deduplicated-inline-style\"/>,\n",
       " <link href=\"mw-data:TemplateStyles:r1067248974\" rel=\"mw-deduplicated-inline-style\"/>,\n",
       " <link href=\"mw-data:TemplateStyles:r1067248974\" rel=\"mw-deduplicated-inline-style\"/>,\n",
       " <link href=\"mw-data:TemplateStyles:r1067248974\" rel=\"mw-deduplicated-inline-style\"/>,\n",
       " <link href=\"mw-data:TemplateStyles:r1067248974\" rel=\"mw-deduplicated-inline-style\"/>,\n",
       " <link href=\"mw-data:TemplateStyles:r1067248974\" rel=\"mw-deduplicated-inline-style\"/>,\n",
       " <link href=\"mw-data:TemplateStyles:r1067248974\" rel=\"mw-deduplicated-inline-style\"/>,\n",
       " <link href=\"mw-data:TemplateStyles:r1067248974\" rel=\"mw-deduplicated-inline-style\"/>,\n",
       " <link href=\"mw-data:TemplateStyles:r1067248974\" rel=\"mw-deduplicated-inline-style\"/>,\n",
       " <link href=\"mw-data:TemplateStyles:r1067248974\" rel=\"mw-deduplicated-inline-style\"/>,\n",
       " <link href=\"mw-data:TemplateStyles:r1067248974\" rel=\"mw-deduplicated-inline-style\"/>,\n",
       " <link href=\"mw-data:TemplateStyles:r1067248974\" rel=\"mw-deduplicated-inline-style\"/>,\n",
       " <link href=\"mw-data:TemplateStyles:r1067248974\" rel=\"mw-deduplicated-inline-style\"/>,\n",
       " <link href=\"mw-data:TemplateStyles:r1067248974\" rel=\"mw-deduplicated-inline-style\"/>,\n",
       " <link href=\"mw-data:TemplateStyles:r1067248974\" rel=\"mw-deduplicated-inline-style\"/>,\n",
       " <link href=\"mw-data:TemplateStyles:r1067248974\" rel=\"mw-deduplicated-inline-style\"/>,\n",
       " <link href=\"mw-data:TemplateStyles:r1067248974\" rel=\"mw-deduplicated-inline-style\"/>,\n",
       " <link href=\"mw-data:TemplateStyles:r1067248974\" rel=\"mw-deduplicated-inline-style\"/>,\n",
       " <link href=\"mw-data:TemplateStyles:r1067248974\" rel=\"mw-deduplicated-inline-style\"/>,\n",
       " <link href=\"mw-data:TemplateStyles:r1067248974\" rel=\"mw-deduplicated-inline-style\"/>,\n",
       " <link href=\"mw-data:TemplateStyles:r1067248974\" rel=\"mw-deduplicated-inline-style\"/>,\n",
       " <link href=\"mw-data:TemplateStyles:r1067248974\" rel=\"mw-deduplicated-inline-style\"/>,\n",
       " <link href=\"mw-data:TemplateStyles:r1067248974\" rel=\"mw-deduplicated-inline-style\"/>,\n",
       " <link href=\"mw-data:TemplateStyles:r1067248974\" rel=\"mw-deduplicated-inline-style\"/>,\n",
       " <link href=\"mw-data:TemplateStyles:r1067248974\" rel=\"mw-deduplicated-inline-style\"/>,\n",
       " <link href=\"mw-data:TemplateStyles:r1067248974\" rel=\"mw-deduplicated-inline-style\"/>,\n",
       " <link href=\"mw-data:TemplateStyles:r1067248974\" rel=\"mw-deduplicated-inline-style\"/>,\n",
       " <link href=\"mw-data:TemplateStyles:r1067248974\" rel=\"mw-deduplicated-inline-style\"/>,\n",
       " <link href=\"mw-data:TemplateStyles:r1033289096\" rel=\"mw-deduplicated-inline-style\"/>,\n",
       " <link href=\"mw-data:TemplateStyles:r1067248974\" rel=\"mw-deduplicated-inline-style\"/>,\n",
       " <link href=\"mw-data:TemplateStyles:r1067248974\" rel=\"mw-deduplicated-inline-style\"/>,\n",
       " <link href=\"mw-data:TemplateStyles:r1067248974\" rel=\"mw-deduplicated-inline-style\"/>,\n",
       " <link href=\"mw-data:TemplateStyles:r1067248974\" rel=\"mw-deduplicated-inline-style\"/>,\n",
       " <link href=\"mw-data:TemplateStyles:r1067248974\" rel=\"mw-deduplicated-inline-style\"/>,\n",
       " <link href=\"mw-data:TemplateStyles:r1067248974\" rel=\"mw-deduplicated-inline-style\"/>,\n",
       " <link href=\"mw-data:TemplateStyles:r1067248974\" rel=\"mw-deduplicated-inline-style\"/>,\n",
       " <link href=\"mw-data:TemplateStyles:r1067248974\" rel=\"mw-deduplicated-inline-style\"/>,\n",
       " <link href=\"mw-data:TemplateStyles:r1054258005\" rel=\"mw-deduplicated-inline-style\"/>,\n",
       " <link href=\"mw-data:TemplateStyles:r1067248974\" rel=\"mw-deduplicated-inline-style\"/>,\n",
       " <link href=\"mw-data:TemplateStyles:r1067248974\" rel=\"mw-deduplicated-inline-style\"/>,\n",
       " <link href=\"mw-data:TemplateStyles:r1067248974\" rel=\"mw-deduplicated-inline-style\"/>,\n",
       " <link href=\"mw-data:TemplateStyles:r1067248974\" rel=\"mw-deduplicated-inline-style\"/>,\n",
       " <link href=\"mw-data:TemplateStyles:r1054258005\" rel=\"mw-deduplicated-inline-style\"/>,\n",
       " <link href=\"mw-data:TemplateStyles:r1067248974\" rel=\"mw-deduplicated-inline-style\"/>,\n",
       " <link href=\"mw-data:TemplateStyles:r1067248974\" rel=\"mw-deduplicated-inline-style\"/>,\n",
       " <link href=\"mw-data:TemplateStyles:r1067248974\" rel=\"mw-deduplicated-inline-style\"/>,\n",
       " <link href=\"mw-data:TemplateStyles:r1067248974\" rel=\"mw-deduplicated-inline-style\"/>,\n",
       " <link href=\"mw-data:TemplateStyles:r1067248974\" rel=\"mw-deduplicated-inline-style\"/>,\n",
       " <link href=\"mw-data:TemplateStyles:r1067248974\" rel=\"mw-deduplicated-inline-style\"/>,\n",
       " <link href=\"mw-data:TemplateStyles:r1067248974\" rel=\"mw-deduplicated-inline-style\"/>,\n",
       " <link href=\"mw-data:TemplateStyles:r1067248974\" rel=\"mw-deduplicated-inline-style\"/>,\n",
       " <link href=\"mw-data:TemplateStyles:r1067248974\" rel=\"mw-deduplicated-inline-style\"/>,\n",
       " <link href=\"mw-data:TemplateStyles:r1067248974\" rel=\"mw-deduplicated-inline-style\"/>,\n",
       " <link href=\"mw-data:TemplateStyles:r1067248974\" rel=\"mw-deduplicated-inline-style\"/>,\n",
       " <link href=\"mw-data:TemplateStyles:r1067248974\" rel=\"mw-deduplicated-inline-style\"/>,\n",
       " <link href=\"mw-data:TemplateStyles:r1067248974\" rel=\"mw-deduplicated-inline-style\"/>,\n",
       " <link href=\"mw-data:TemplateStyles:r1067248974\" rel=\"mw-deduplicated-inline-style\"/>,\n",
       " <link href=\"mw-data:TemplateStyles:r1067248974\" rel=\"mw-deduplicated-inline-style\"/>,\n",
       " <link href=\"mw-data:TemplateStyles:r1067248974\" rel=\"mw-deduplicated-inline-style\"/>,\n",
       " <link href=\"mw-data:TemplateStyles:r1067248974\" rel=\"mw-deduplicated-inline-style\"/>,\n",
       " <link href=\"mw-data:TemplateStyles:r1067248974\" rel=\"mw-deduplicated-inline-style\"/>,\n",
       " <link href=\"mw-data:TemplateStyles:r1067248974\" rel=\"mw-deduplicated-inline-style\"/>,\n",
       " <link href=\"mw-data:TemplateStyles:r1067248974\" rel=\"mw-deduplicated-inline-style\"/>,\n",
       " <link href=\"mw-data:TemplateStyles:r1067248974\" rel=\"mw-deduplicated-inline-style\"/>,\n",
       " <link href=\"mw-data:TemplateStyles:r1067248974\" rel=\"mw-deduplicated-inline-style\"/>,\n",
       " <link href=\"mw-data:TemplateStyles:r1067248974\" rel=\"mw-deduplicated-inline-style\"/>,\n",
       " <link href=\"mw-data:TemplateStyles:r1067248974\" rel=\"mw-deduplicated-inline-style\"/>,\n",
       " <link href=\"mw-data:TemplateStyles:r1067248974\" rel=\"mw-deduplicated-inline-style\"/>,\n",
       " <link href=\"mw-data:TemplateStyles:r1067248974\" rel=\"mw-deduplicated-inline-style\"/>,\n",
       " <link href=\"mw-data:TemplateStyles:r1067248974\" rel=\"mw-deduplicated-inline-style\"/>,\n",
       " <link href=\"mw-data:TemplateStyles:r1067248974\" rel=\"mw-deduplicated-inline-style\"/>,\n",
       " <link href=\"mw-data:TemplateStyles:r1067248974\" rel=\"mw-deduplicated-inline-style\"/>,\n",
       " <link href=\"mw-data:TemplateStyles:r1067248974\" rel=\"mw-deduplicated-inline-style\"/>,\n",
       " <link href=\"mw-data:TemplateStyles:r1067248974\" rel=\"mw-deduplicated-inline-style\"/>,\n",
       " <link href=\"mw-data:TemplateStyles:r1067248974\" rel=\"mw-deduplicated-inline-style\"/>,\n",
       " <link href=\"mw-data:TemplateStyles:r1067248974\" rel=\"mw-deduplicated-inline-style\"/>,\n",
       " <link href=\"mw-data:TemplateStyles:r1067248974\" rel=\"mw-deduplicated-inline-style\"/>,\n",
       " <link href=\"mw-data:TemplateStyles:r1067248974\" rel=\"mw-deduplicated-inline-style\"/>,\n",
       " <link href=\"mw-data:TemplateStyles:r1067248974\" rel=\"mw-deduplicated-inline-style\"/>,\n",
       " <link href=\"mw-data:TemplateStyles:r1067248974\" rel=\"mw-deduplicated-inline-style\"/>,\n",
       " <link href=\"mw-data:TemplateStyles:r1067248974\" rel=\"mw-deduplicated-inline-style\"/>,\n",
       " <link href=\"mw-data:TemplateStyles:r1067248974\" rel=\"mw-deduplicated-inline-style\"/>,\n",
       " <link href=\"mw-data:TemplateStyles:r1067248974\" rel=\"mw-deduplicated-inline-style\"/>,\n",
       " <link href=\"mw-data:TemplateStyles:r1067248974\" rel=\"mw-deduplicated-inline-style\"/>,\n",
       " <link href=\"mw-data:TemplateStyles:r1067248974\" rel=\"mw-deduplicated-inline-style\"/>,\n",
       " <link href=\"mw-data:TemplateStyles:r1067248974\" rel=\"mw-deduplicated-inline-style\"/>,\n",
       " <link href=\"mw-data:TemplateStyles:r1067248974\" rel=\"mw-deduplicated-inline-style\"/>,\n",
       " <link href=\"mw-data:TemplateStyles:r1067248974\" rel=\"mw-deduplicated-inline-style\"/>,\n",
       " <link href=\"mw-data:TemplateStyles:r1067248974\" rel=\"mw-deduplicated-inline-style\"/>,\n",
       " <link href=\"mw-data:TemplateStyles:r1067248974\" rel=\"mw-deduplicated-inline-style\"/>,\n",
       " <link href=\"mw-data:TemplateStyles:r1067248974\" rel=\"mw-deduplicated-inline-style\"/>,\n",
       " <link href=\"mw-data:TemplateStyles:r1067248974\" rel=\"mw-deduplicated-inline-style\"/>,\n",
       " <link href=\"mw-data:TemplateStyles:r1067248974\" rel=\"mw-deduplicated-inline-style\"/>,\n",
       " <link href=\"mw-data:TemplateStyles:r1067248974\" rel=\"mw-deduplicated-inline-style\"/>,\n",
       " <link href=\"mw-data:TemplateStyles:r1067248974\" rel=\"mw-deduplicated-inline-style\"/>,\n",
       " <link href=\"mw-data:TemplateStyles:r1067248974\" rel=\"mw-deduplicated-inline-style\"/>,\n",
       " <link href=\"mw-data:TemplateStyles:r1067248974\" rel=\"mw-deduplicated-inline-style\"/>,\n",
       " <link href=\"mw-data:TemplateStyles:r1067248974\" rel=\"mw-deduplicated-inline-style\"/>,\n",
       " <link href=\"mw-data:TemplateStyles:r1067248974\" rel=\"mw-deduplicated-inline-style\"/>,\n",
       " <link href=\"mw-data:TemplateStyles:r1067248974\" rel=\"mw-deduplicated-inline-style\"/>,\n",
       " <link href=\"mw-data:TemplateStyles:r1067248974\" rel=\"mw-deduplicated-inline-style\"/>,\n",
       " <link href=\"mw-data:TemplateStyles:r1067248974\" rel=\"mw-deduplicated-inline-style\"/>,\n",
       " <link href=\"mw-data:TemplateStyles:r1067248974\" rel=\"mw-deduplicated-inline-style\"/>,\n",
       " <link href=\"mw-data:TemplateStyles:r1067248974\" rel=\"mw-deduplicated-inline-style\"/>,\n",
       " <link href=\"mw-data:TemplateStyles:r1067248974\" rel=\"mw-deduplicated-inline-style\"/>,\n",
       " <link href=\"mw-data:TemplateStyles:r1067248974\" rel=\"mw-deduplicated-inline-style\"/>,\n",
       " <link href=\"mw-data:TemplateStyles:r1067248974\" rel=\"mw-deduplicated-inline-style\"/>,\n",
       " <link href=\"mw-data:TemplateStyles:r1067248974\" rel=\"mw-deduplicated-inline-style\"/>,\n",
       " <link href=\"mw-data:TemplateStyles:r1067248974\" rel=\"mw-deduplicated-inline-style\"/>,\n",
       " <link href=\"mw-data:TemplateStyles:r1067248974\" rel=\"mw-deduplicated-inline-style\"/>,\n",
       " <link href=\"mw-data:TemplateStyles:r1067248974\" rel=\"mw-deduplicated-inline-style\"/>,\n",
       " <link href=\"mw-data:TemplateStyles:r1067248974\" rel=\"mw-deduplicated-inline-style\"/>,\n",
       " <link href=\"mw-data:TemplateStyles:r1067248974\" rel=\"mw-deduplicated-inline-style\"/>,\n",
       " <link href=\"mw-data:TemplateStyles:r1067248974\" rel=\"mw-deduplicated-inline-style\"/>,\n",
       " <link href=\"mw-data:TemplateStyles:r1067248974\" rel=\"mw-deduplicated-inline-style\"/>,\n",
       " <link href=\"mw-data:TemplateStyles:r1067248974\" rel=\"mw-deduplicated-inline-style\"/>,\n",
       " <link href=\"mw-data:TemplateStyles:r1067248974\" rel=\"mw-deduplicated-inline-style\"/>,\n",
       " <link href=\"mw-data:TemplateStyles:r1067248974\" rel=\"mw-deduplicated-inline-style\"/>,\n",
       " <link href=\"mw-data:TemplateStyles:r1067248974\" rel=\"mw-deduplicated-inline-style\"/>,\n",
       " <link href=\"mw-data:TemplateStyles:r1067248974\" rel=\"mw-deduplicated-inline-style\"/>,\n",
       " <link href=\"mw-data:TemplateStyles:r1067248974\" rel=\"mw-deduplicated-inline-style\"/>,\n",
       " <link href=\"mw-data:TemplateStyles:r1067248974\" rel=\"mw-deduplicated-inline-style\"/>,\n",
       " <link href=\"mw-data:TemplateStyles:r1067248974\" rel=\"mw-deduplicated-inline-style\"/>,\n",
       " <link href=\"mw-data:TemplateStyles:r1067248974\" rel=\"mw-deduplicated-inline-style\"/>,\n",
       " <link href=\"mw-data:TemplateStyles:r1067248974\" rel=\"mw-deduplicated-inline-style\"/>,\n",
       " <link href=\"mw-data:TemplateStyles:r1067248974\" rel=\"mw-deduplicated-inline-style\"/>,\n",
       " <link href=\"mw-data:TemplateStyles:r1067248974\" rel=\"mw-deduplicated-inline-style\"/>,\n",
       " <link href=\"mw-data:TemplateStyles:r1067248974\" rel=\"mw-deduplicated-inline-style\"/>,\n",
       " <link href=\"mw-data:TemplateStyles:r1067248974\" rel=\"mw-deduplicated-inline-style\"/>,\n",
       " <link href=\"mw-data:TemplateStyles:r1067248974\" rel=\"mw-deduplicated-inline-style\"/>,\n",
       " <link href=\"mw-data:TemplateStyles:r1067248974\" rel=\"mw-deduplicated-inline-style\"/>,\n",
       " <link href=\"mw-data:TemplateStyles:r1067248974\" rel=\"mw-deduplicated-inline-style\"/>,\n",
       " <link href=\"mw-data:TemplateStyles:r1067248974\" rel=\"mw-deduplicated-inline-style\"/>,\n",
       " <link href=\"mw-data:TemplateStyles:r1067248974\" rel=\"mw-deduplicated-inline-style\"/>,\n",
       " <link href=\"mw-data:TemplateStyles:r1067248974\" rel=\"mw-deduplicated-inline-style\"/>,\n",
       " <link href=\"mw-data:TemplateStyles:r1067248974\" rel=\"mw-deduplicated-inline-style\"/>,\n",
       " <link href=\"mw-data:TemplateStyles:r1067248974\" rel=\"mw-deduplicated-inline-style\"/>,\n",
       " <link href=\"mw-data:TemplateStyles:r1067248974\" rel=\"mw-deduplicated-inline-style\"/>,\n",
       " <link href=\"mw-data:TemplateStyles:r1067248974\" rel=\"mw-deduplicated-inline-style\"/>,\n",
       " <link href=\"mw-data:TemplateStyles:r1067248974\" rel=\"mw-deduplicated-inline-style\"/>,\n",
       " <link href=\"mw-data:TemplateStyles:r1067248974\" rel=\"mw-deduplicated-inline-style\"/>,\n",
       " <link href=\"mw-data:TemplateStyles:r1067248974\" rel=\"mw-deduplicated-inline-style\"/>,\n",
       " <link href=\"mw-data:TemplateStyles:r1067248974\" rel=\"mw-deduplicated-inline-style\"/>,\n",
       " <link href=\"mw-data:TemplateStyles:r1067248974\" rel=\"mw-deduplicated-inline-style\"/>,\n",
       " <link href=\"mw-data:TemplateStyles:r1067248974\" rel=\"mw-deduplicated-inline-style\"/>,\n",
       " <link href=\"mw-data:TemplateStyles:r1067248974\" rel=\"mw-deduplicated-inline-style\"/>,\n",
       " <link href=\"mw-data:TemplateStyles:r1067248974\" rel=\"mw-deduplicated-inline-style\"/>,\n",
       " <link href=\"mw-data:TemplateStyles:r1067248974\" rel=\"mw-deduplicated-inline-style\"/>,\n",
       " <link href=\"mw-data:TemplateStyles:r1067248974\" rel=\"mw-deduplicated-inline-style\"/>,\n",
       " <link href=\"mw-data:TemplateStyles:r1067248974\" rel=\"mw-deduplicated-inline-style\"/>,\n",
       " <link href=\"mw-data:TemplateStyles:r1067248974\" rel=\"mw-deduplicated-inline-style\"/>,\n",
       " <link href=\"mw-data:TemplateStyles:r1067248974\" rel=\"mw-deduplicated-inline-style\"/>,\n",
       " <link href=\"mw-data:TemplateStyles:r1067248974\" rel=\"mw-deduplicated-inline-style\"/>,\n",
       " <link href=\"mw-data:TemplateStyles:r1067248974\" rel=\"mw-deduplicated-inline-style\"/>,\n",
       " <link href=\"mw-data:TemplateStyles:r1067248974\" rel=\"mw-deduplicated-inline-style\"/>,\n",
       " <link href=\"mw-data:TemplateStyles:r1067248974\" rel=\"mw-deduplicated-inline-style\"/>,\n",
       " <link href=\"mw-data:TemplateStyles:r1067248974\" rel=\"mw-deduplicated-inline-style\"/>,\n",
       " <link href=\"mw-data:TemplateStyles:r1067248974\" rel=\"mw-deduplicated-inline-style\"/>,\n",
       " <link href=\"mw-data:TemplateStyles:r1067248974\" rel=\"mw-deduplicated-inline-style\"/>,\n",
       " <link href=\"mw-data:TemplateStyles:r1067248974\" rel=\"mw-deduplicated-inline-style\"/>,\n",
       " <link href=\"mw-data:TemplateStyles:r1067248974\" rel=\"mw-deduplicated-inline-style\"/>,\n",
       " <link href=\"mw-data:TemplateStyles:r1067248974\" rel=\"mw-deduplicated-inline-style\"/>,\n",
       " <link href=\"mw-data:TemplateStyles:r1067248974\" rel=\"mw-deduplicated-inline-style\"/>,\n",
       " <link href=\"mw-data:TemplateStyles:r1067248974\" rel=\"mw-deduplicated-inline-style\"/>,\n",
       " <link href=\"mw-data:TemplateStyles:r1067248974\" rel=\"mw-deduplicated-inline-style\"/>,\n",
       " <link href=\"mw-data:TemplateStyles:r1067248974\" rel=\"mw-deduplicated-inline-style\"/>,\n",
       " <link href=\"mw-data:TemplateStyles:r1067248974\" rel=\"mw-deduplicated-inline-style\"/>,\n",
       " <link href=\"mw-data:TemplateStyles:r1067248974\" rel=\"mw-deduplicated-inline-style\"/>,\n",
       " <link href=\"mw-data:TemplateStyles:r1067248974\" rel=\"mw-deduplicated-inline-style\"/>,\n",
       " <link href=\"mw-data:TemplateStyles:r1067248974\" rel=\"mw-deduplicated-inline-style\"/>,\n",
       " <link href=\"mw-data:TemplateStyles:r1067248974\" rel=\"mw-deduplicated-inline-style\"/>,\n",
       " <link href=\"mw-data:TemplateStyles:r1067248974\" rel=\"mw-deduplicated-inline-style\"/>,\n",
       " <link href=\"mw-data:TemplateStyles:r1067248974\" rel=\"mw-deduplicated-inline-style\"/>,\n",
       " <link href=\"mw-data:TemplateStyles:r1067248974\" rel=\"mw-deduplicated-inline-style\"/>,\n",
       " <link href=\"mw-data:TemplateStyles:r1067248974\" rel=\"mw-deduplicated-inline-style\"/>,\n",
       " <link href=\"mw-data:TemplateStyles:r1067248974\" rel=\"mw-deduplicated-inline-style\"/>,\n",
       " <link href=\"mw-data:TemplateStyles:r1067248974\" rel=\"mw-deduplicated-inline-style\"/>,\n",
       " <link href=\"mw-data:TemplateStyles:r1067248974\" rel=\"mw-deduplicated-inline-style\"/>,\n",
       " <link href=\"mw-data:TemplateStyles:r1067248974\" rel=\"mw-deduplicated-inline-style\"/>,\n",
       " <link href=\"mw-data:TemplateStyles:r1067248974\" rel=\"mw-deduplicated-inline-style\"/>,\n",
       " <link href=\"mw-data:TemplateStyles:r1067248974\" rel=\"mw-deduplicated-inline-style\"/>,\n",
       " <link href=\"mw-data:TemplateStyles:r1067248974\" rel=\"mw-deduplicated-inline-style\"/>,\n",
       " <link href=\"mw-data:TemplateStyles:r1067248974\" rel=\"mw-deduplicated-inline-style\"/>,\n",
       " <link href=\"mw-data:TemplateStyles:r1067248974\" rel=\"mw-deduplicated-inline-style\"/>,\n",
       " <link href=\"mw-data:TemplateStyles:r1067248974\" rel=\"mw-deduplicated-inline-style\"/>,\n",
       " <link href=\"mw-data:TemplateStyles:r1067248974\" rel=\"mw-deduplicated-inline-style\"/>,\n",
       " <link href=\"mw-data:TemplateStyles:r1067248974\" rel=\"mw-deduplicated-inline-style\"/>,\n",
       " <link href=\"mw-data:TemplateStyles:r1067248974\" rel=\"mw-deduplicated-inline-style\"/>,\n",
       " <link href=\"mw-data:TemplateStyles:r1067248974\" rel=\"mw-deduplicated-inline-style\"/>,\n",
       " <link href=\"mw-data:TemplateStyles:r1067248974\" rel=\"mw-deduplicated-inline-style\"/>,\n",
       " <link href=\"mw-data:TemplateStyles:r1067248974\" rel=\"mw-deduplicated-inline-style\"/>,\n",
       " <link href=\"mw-data:TemplateStyles:r1067248974\" rel=\"mw-deduplicated-inline-style\"/>,\n",
       " <link href=\"mw-data:TemplateStyles:r1067248974\" rel=\"mw-deduplicated-inline-style\"/>,\n",
       " <link href=\"mw-data:TemplateStyles:r1067248974\" rel=\"mw-deduplicated-inline-style\"/>,\n",
       " <link href=\"mw-data:TemplateStyles:r1067248974\" rel=\"mw-deduplicated-inline-style\"/>,\n",
       " <link href=\"mw-data:TemplateStyles:r1067248974\" rel=\"mw-deduplicated-inline-style\"/>,\n",
       " <link href=\"mw-data:TemplateStyles:r1067248974\" rel=\"mw-deduplicated-inline-style\"/>,\n",
       " <link href=\"mw-data:TemplateStyles:r1067248974\" rel=\"mw-deduplicated-inline-style\"/>,\n",
       " <link href=\"mw-data:TemplateStyles:r1067248974\" rel=\"mw-deduplicated-inline-style\"/>,\n",
       " <link href=\"mw-data:TemplateStyles:r1067248974\" rel=\"mw-deduplicated-inline-style\"/>,\n",
       " <link href=\"mw-data:TemplateStyles:r1067248974\" rel=\"mw-deduplicated-inline-style\"/>,\n",
       " <link href=\"mw-data:TemplateStyles:r1067248974\" rel=\"mw-deduplicated-inline-style\"/>,\n",
       " <link href=\"mw-data:TemplateStyles:r1067248974\" rel=\"mw-deduplicated-inline-style\"/>,\n",
       " <link href=\"mw-data:TemplateStyles:r1067248974\" rel=\"mw-deduplicated-inline-style\"/>,\n",
       " <link href=\"mw-data:TemplateStyles:r1067248974\" rel=\"mw-deduplicated-inline-style\"/>,\n",
       " <link href=\"mw-data:TemplateStyles:r1067248974\" rel=\"mw-deduplicated-inline-style\"/>,\n",
       " <link href=\"mw-data:TemplateStyles:r1067248974\" rel=\"mw-deduplicated-inline-style\"/>,\n",
       " <link href=\"mw-data:TemplateStyles:r1067248974\" rel=\"mw-deduplicated-inline-style\"/>,\n",
       " <link href=\"mw-data:TemplateStyles:r1067248974\" rel=\"mw-deduplicated-inline-style\"/>,\n",
       " <link href=\"mw-data:TemplateStyles:r1067248974\" rel=\"mw-deduplicated-inline-style\"/>,\n",
       " <link href=\"mw-data:TemplateStyles:r1067248974\" rel=\"mw-deduplicated-inline-style\"/>,\n",
       " <link href=\"mw-data:TemplateStyles:r1067248974\" rel=\"mw-deduplicated-inline-style\"/>,\n",
       " <link href=\"mw-data:TemplateStyles:r1067248974\" rel=\"mw-deduplicated-inline-style\"/>,\n",
       " <link href=\"mw-data:TemplateStyles:r1067248974\" rel=\"mw-deduplicated-inline-style\"/>,\n",
       " <link href=\"mw-data:TemplateStyles:r1054258005\" rel=\"mw-deduplicated-inline-style\"/>,\n",
       " <link href=\"mw-data:TemplateStyles:r1067248974\" rel=\"mw-deduplicated-inline-style\"/>,\n",
       " <link href=\"mw-data:TemplateStyles:r1067248974\" rel=\"mw-deduplicated-inline-style\"/>,\n",
       " <link href=\"mw-data:TemplateStyles:r1067248974\" rel=\"mw-deduplicated-inline-style\"/>,\n",
       " <link href=\"mw-data:TemplateStyles:r1067248974\" rel=\"mw-deduplicated-inline-style\"/>,\n",
       " <link href=\"mw-data:TemplateStyles:r1067248974\" rel=\"mw-deduplicated-inline-style\"/>,\n",
       " <link href=\"mw-data:TemplateStyles:r1067248974\" rel=\"mw-deduplicated-inline-style\"/>,\n",
       " <link href=\"mw-data:TemplateStyles:r1067248974\" rel=\"mw-deduplicated-inline-style\"/>,\n",
       " <link href=\"mw-data:TemplateStyles:r1067248974\" rel=\"mw-deduplicated-inline-style\"/>,\n",
       " <link href=\"mw-data:TemplateStyles:r1067248974\" rel=\"mw-deduplicated-inline-style\"/>,\n",
       " <link href=\"mw-data:TemplateStyles:r1061467846\" rel=\"mw-deduplicated-inline-style\"/>,\n",
       " <link href=\"mw-data:TemplateStyles:r1063604349\" rel=\"mw-deduplicated-inline-style\"/>,\n",
       " <link href=\"mw-data:TemplateStyles:r1061467846\" rel=\"mw-deduplicated-inline-style\"/>,\n",
       " <link href=\"mw-data:TemplateStyles:r1063604349\" rel=\"mw-deduplicated-inline-style\"/>,\n",
       " <link href=\"mw-data:TemplateStyles:r1061467846\" rel=\"mw-deduplicated-inline-style\"/>,\n",
       " <link href=\"mw-data:TemplateStyles:r1063604349\" rel=\"mw-deduplicated-inline-style\"/>,\n",
       " <link href=\"mw-data:TemplateStyles:r1061467846\" rel=\"mw-deduplicated-inline-style\"/>,\n",
       " <link href=\"mw-data:TemplateStyles:r1063604349\" rel=\"mw-deduplicated-inline-style\"/>,\n",
       " <link href=\"mw-data:TemplateStyles:r1061467846\" rel=\"mw-deduplicated-inline-style\"/>,\n",
       " <link href=\"mw-data:TemplateStyles:r1063604349\" rel=\"mw-deduplicated-inline-style\"/>,\n",
       " <link href=\"mw-data:TemplateStyles:r1061467846\" rel=\"mw-deduplicated-inline-style\"/>,\n",
       " <link href=\"mw-data:TemplateStyles:r1063604349\" rel=\"mw-deduplicated-inline-style\"/>,\n",
       " <link href=\"mw-data:TemplateStyles:r1061467846\" rel=\"mw-deduplicated-inline-style\"/>,\n",
       " <link href=\"mw-data:TemplateStyles:r1063604349\" rel=\"mw-deduplicated-inline-style\"/>,\n",
       " <link href=\"mw-data:TemplateStyles:r1061467846\" rel=\"mw-deduplicated-inline-style\"/>,\n",
       " <link href=\"mw-data:TemplateStyles:r1063604349\" rel=\"mw-deduplicated-inline-style\"/>,\n",
       " <link href=\"mw-data:TemplateStyles:r1061467846\" rel=\"mw-deduplicated-inline-style\"/>,\n",
       " <link href=\"mw-data:TemplateStyles:r1063604349\" rel=\"mw-deduplicated-inline-style\"/>,\n",
       " <link href=\"mw-data:TemplateStyles:r1061467846\" rel=\"mw-deduplicated-inline-style\"/>,\n",
       " <link href=\"mw-data:TemplateStyles:r1063604349\" rel=\"mw-deduplicated-inline-style\"/>,\n",
       " <link href=\"mw-data:TemplateStyles:r1061467846\" rel=\"mw-deduplicated-inline-style\"/>,\n",
       " <link href=\"mw-data:TemplateStyles:r1063604349\" rel=\"mw-deduplicated-inline-style\"/>,\n",
       " <link href=\"mw-data:TemplateStyles:r1061467846\" rel=\"mw-deduplicated-inline-style\"/>,\n",
       " <link href=\"mw-data:TemplateStyles:r1063604349\" rel=\"mw-deduplicated-inline-style\"/>,\n",
       " <link href=\"mw-data:TemplateStyles:r1061467846\" rel=\"mw-deduplicated-inline-style\"/>]"
      ]
     },
     "execution_count": 19,
     "metadata": {},
     "output_type": "execute_result"
    }
   ],
   "source": [
    "bsp.select('link')"
   ]
  },
  {
   "cell_type": "code",
   "execution_count": 20,
   "metadata": {},
   "outputs": [
    {
     "data": {
      "text/plain": [
       "[<img alt=\"Page semi-protected\" data-file-height=\"512\" data-file-width=\"512\" decoding=\"async\" height=\"20\" src=\"//upload.wikimedia.org/wikipedia/en/thumb/1/1b/Semi-protection-shackle.svg/20px-Semi-protection-shackle.svg.png\" srcset=\"//upload.wikimedia.org/wikipedia/en/thumb/1/1b/Semi-protection-shackle.svg/30px-Semi-protection-shackle.svg.png 1.5x, //upload.wikimedia.org/wikipedia/en/thumb/1/1b/Semi-protection-shackle.svg/40px-Semi-protection-shackle.svg.png 2x\" width=\"20\"/>,\n",
       " <img alt=\"\" data-file-height=\"48\" data-file-width=\"48\" decoding=\"async\" height=\"40\" src=\"//upload.wikimedia.org/wikipedia/en/thumb/f/f2/Edit-clear.svg/40px-Edit-clear.svg.png\" srcset=\"//upload.wikimedia.org/wikipedia/en/thumb/f/f2/Edit-clear.svg/60px-Edit-clear.svg.png 1.5x, //upload.wikimedia.org/wikipedia/en/thumb/f/f2/Edit-clear.svg/80px-Edit-clear.svg.png 2x\" width=\"40\"/>,\n",
       " <img alt=\"Anatomy-1751201 1280.png\" data-file-height=\"1088\" data-file-width=\"1280\" decoding=\"async\" height=\"85\" src=\"//upload.wikimedia.org/wikipedia/commons/thumb/7/7a/Anatomy-1751201_1280.png/100px-Anatomy-1751201_1280.png\" srcset=\"//upload.wikimedia.org/wikipedia/commons/thumb/7/7a/Anatomy-1751201_1280.png/150px-Anatomy-1751201_1280.png 1.5x, //upload.wikimedia.org/wikipedia/commons/thumb/7/7a/Anatomy-1751201_1280.png/200px-Anatomy-1751201_1280.png 2x\" width=\"100\"/>,\n",
       " <img alt=\"\" class=\"thumbimage\" data-file-height=\"1020\" data-file-width=\"1020\" decoding=\"async\" height=\"220\" src=\"//upload.wikimedia.org/wikipedia/commons/thumb/c/c8/Didrachm_Phaistos_obverse_CdM.jpg/220px-Didrachm_Phaistos_obverse_CdM.jpg\" srcset=\"//upload.wikimedia.org/wikipedia/commons/thumb/c/c8/Didrachm_Phaistos_obverse_CdM.jpg/330px-Didrachm_Phaistos_obverse_CdM.jpg 1.5x, //upload.wikimedia.org/wikipedia/commons/thumb/c/c8/Didrachm_Phaistos_obverse_CdM.jpg/440px-Didrachm_Phaistos_obverse_CdM.jpg 2x\" width=\"220\"/>,\n",
       " <img alt=\"\" class=\"thumbimage\" data-file-height=\"443\" data-file-width=\"469\" decoding=\"async\" height=\"208\" src=\"//upload.wikimedia.org/wikipedia/commons/thumb/9/9e/GFO_taxonomy_tree.png/220px-GFO_taxonomy_tree.png\" srcset=\"//upload.wikimedia.org/wikipedia/commons/thumb/9/9e/GFO_taxonomy_tree.png/330px-GFO_taxonomy_tree.png 1.5x, //upload.wikimedia.org/wikipedia/commons/thumb/9/9e/GFO_taxonomy_tree.png/440px-GFO_taxonomy_tree.png 2x\" width=\"220\"/>,\n",
       " <img alt=\"\" class=\"thumbimage\" data-file-height=\"120\" data-file-width=\"120\" decoding=\"async\" height=\"220\" src=\"//upload.wikimedia.org/wikipedia/commons/thumb/6/6e/ParseTree.svg/220px-ParseTree.svg.png\" srcset=\"//upload.wikimedia.org/wikipedia/commons/thumb/6/6e/ParseTree.svg/330px-ParseTree.svg.png 1.5x, //upload.wikimedia.org/wikipedia/commons/thumb/6/6e/ParseTree.svg/440px-ParseTree.svg.png 2x\" width=\"220\"/>,\n",
       " <img alt=\"\" class=\"thumbimage\" data-file-height=\"471\" data-file-width=\"1415\" decoding=\"async\" height=\"110\" src=\"//upload.wikimedia.org/wikipedia/commons/thumb/2/20/%C3%84%C3%A4retuvastuse_n%C3%A4ide.png/330px-%C3%84%C3%A4retuvastuse_n%C3%A4ide.png\" srcset=\"//upload.wikimedia.org/wikipedia/commons/thumb/2/20/%C3%84%C3%A4retuvastuse_n%C3%A4ide.png/495px-%C3%84%C3%A4retuvastuse_n%C3%A4ide.png 1.5x, //upload.wikimedia.org/wikipedia/commons/thumb/2/20/%C3%84%C3%A4retuvastuse_n%C3%A4ide.png/660px-%C3%84%C3%A4retuvastuse_n%C3%A4ide.png 2x\" width=\"330\"/>,\n",
       " <img alt=\"\" class=\"thumbimage\" data-file-height=\"1704\" data-file-width=\"2272\" decoding=\"async\" height=\"165\" src=\"//upload.wikimedia.org/wikipedia/commons/thumb/b/b8/Kismet_robot_at_MIT_Museum.jpg/220px-Kismet_robot_at_MIT_Museum.jpg\" srcset=\"//upload.wikimedia.org/wikipedia/commons/thumb/b/b8/Kismet_robot_at_MIT_Museum.jpg/330px-Kismet_robot_at_MIT_Museum.jpg 1.5x, //upload.wikimedia.org/wikipedia/commons/thumb/b/b8/Kismet_robot_at_MIT_Museum.jpg/440px-Kismet_robot_at_MIT_Museum.jpg 2x\" width=\"220\"/>,\n",
       " <img alt=\"\" class=\"thumbimage\" data-file-height=\"420\" data-file-width=\"560\" decoding=\"async\" height=\"165\" src=\"//upload.wikimedia.org/wikipedia/commons/thumb/e/ec/ParticleSwarmArrowsAnimation.gif/220px-ParticleSwarmArrowsAnimation.gif\" srcset=\"//upload.wikimedia.org/wikipedia/commons/thumb/e/ec/ParticleSwarmArrowsAnimation.gif/330px-ParticleSwarmArrowsAnimation.gif 1.5x, //upload.wikimedia.org/wikipedia/commons/thumb/e/ec/ParticleSwarmArrowsAnimation.gif/440px-ParticleSwarmArrowsAnimation.gif 2x\" width=\"220\"/>,\n",
       " <img alt=\"\" class=\"thumbimage\" data-file-height=\"309\" data-file-width=\"360\" decoding=\"async\" height=\"309\" src=\"//upload.wikimedia.org/wikipedia/commons/6/69/EM_Clustering_of_Old_Faithful_data.gif\" width=\"360\"/>,\n",
       " <img alt=\"\" class=\"thumbimage\" data-file-height=\"500\" data-file-width=\"560\" decoding=\"async\" height=\"196\" src=\"//upload.wikimedia.org/wikipedia/commons/thumb/e/e4/Artificial_neural_network.svg/220px-Artificial_neural_network.svg.png\" srcset=\"//upload.wikimedia.org/wikipedia/commons/thumb/e/e4/Artificial_neural_network.svg/330px-Artificial_neural_network.svg.png 1.5x, //upload.wikimedia.org/wikipedia/commons/thumb/e/e4/Artificial_neural_network.svg/440px-Artificial_neural_network.svg.png 2x\" width=\"220\"/>,\n",
       " <img alt=\"Representing Images on Multiple Layers of Abstraction in Deep Learning\" class=\"thumbimage\" data-file-height=\"1012\" data-file-width=\"1239\" decoding=\"async\" height=\"180\" src=\"//upload.wikimedia.org/wikipedia/commons/thumb/2/26/Deep_Learning.jpg/220px-Deep_Learning.jpg\" srcset=\"//upload.wikimedia.org/wikipedia/commons/thumb/2/26/Deep_Learning.jpg/330px-Deep_Learning.jpg 1.5x, //upload.wikimedia.org/wikipedia/commons/thumb/2/26/Deep_Learning.jpg/440px-Deep_Learning.jpg 2x\" width=\"220\"/>,\n",
       " <img alt=\"\" class=\"thumbimage\" data-file-height=\"2000\" data-file-width=\"1726\" decoding=\"async\" height=\"255\" src=\"//upload.wikimedia.org/wikipedia/commons/thumb/1/13/Joseph_Ayerle_portrait_of_Ornella_Muti_%28detail%29%2C_calculated_by_Artificial_Intelligence_%28AI%29_technology.jpg/220px-Joseph_Ayerle_portrait_of_Ornella_Muti_%28detail%29%2C_calculated_by_Artificial_Intelligence_%28AI%29_technology.jpg\" srcset=\"//upload.wikimedia.org/wikipedia/commons/thumb/1/13/Joseph_Ayerle_portrait_of_Ornella_Muti_%28detail%29%2C_calculated_by_Artificial_Intelligence_%28AI%29_technology.jpg/330px-Joseph_Ayerle_portrait_of_Ornella_Muti_%28detail%29%2C_calculated_by_Artificial_Intelligence_%28AI%29_technology.jpg 1.5x, //upload.wikimedia.org/wikipedia/commons/thumb/1/13/Joseph_Ayerle_portrait_of_Ornella_Muti_%28detail%29%2C_calculated_by_Artificial_Intelligence_%28AI%29_technology.jpg/440px-Joseph_Ayerle_portrait_of_Ornella_Muti_%28detail%29%2C_calculated_by_Artificial_Intelligence_%28AI%29_technology.jpg 2x\" width=\"220\"/>,\n",
       " <img alt=\"\" class=\"thumbimage\" data-file-height=\"506\" data-file-width=\"763\" decoding=\"async\" height=\"146\" src=\"//upload.wikimedia.org/wikipedia/commons/thumb/f/f3/AI_Patent_families_for_functional_application_categories_and_sub_categories.png/220px-AI_Patent_families_for_functional_application_categories_and_sub_categories.png\" srcset=\"//upload.wikimedia.org/wikipedia/commons/thumb/f/f3/AI_Patent_families_for_functional_application_categories_and_sub_categories.png/330px-AI_Patent_families_for_functional_application_categories_and_sub_categories.png 1.5x, //upload.wikimedia.org/wikipedia/commons/thumb/f/f3/AI_Patent_families_for_functional_application_categories_and_sub_categories.png/440px-AI_Patent_families_for_functional_application_categories_and_sub_categories.png 2x\" width=\"220\"/>,\n",
       " <img alt=\"\" class=\"thumbimage\" data-file-height=\"316\" data-file-width=\"566\" decoding=\"async\" height=\"123\" src=\"//upload.wikimedia.org/wikipedia/commons/thumb/8/87/Capek_play.jpg/220px-Capek_play.jpg\" srcset=\"//upload.wikimedia.org/wikipedia/commons/thumb/8/87/Capek_play.jpg/330px-Capek_play.jpg 1.5x, //upload.wikimedia.org/wikipedia/commons/thumb/8/87/Capek_play.jpg/440px-Capek_play.jpg 2x\" width=\"220\"/>,\n",
       " <img alt=\"icon\" class=\"noviewer\" data-file-height=\"1024\" data-file-width=\"896\" decoding=\"async\" height=\"28\" src=\"//upload.wikimedia.org/wikipedia/commons/thumb/6/6f/Octicons-terminal.svg/24px-Octicons-terminal.svg.png\" srcset=\"//upload.wikimedia.org/wikipedia/commons/thumb/6/6f/Octicons-terminal.svg/37px-Octicons-terminal.svg.png 1.5x, //upload.wikimedia.org/wikipedia/commons/thumb/6/6f/Octicons-terminal.svg/49px-Octicons-terminal.svg.png 2x\" width=\"24\"/>,\n",
       " <img alt=\"Definition of Free Cultural Works logo notext.svg\" class=\"noviewer\" data-file-height=\"218\" data-file-width=\"219\" decoding=\"async\" height=\"12\" src=\"//upload.wikimedia.org/wikipedia/commons/thumb/7/78/Definition_of_Free_Cultural_Works_logo_notext.svg/12px-Definition_of_Free_Cultural_Works_logo_notext.svg.png\" srcset=\"//upload.wikimedia.org/wikipedia/commons/thumb/7/78/Definition_of_Free_Cultural_Works_logo_notext.svg/18px-Definition_of_Free_Cultural_Works_logo_notext.svg.png 1.5x, //upload.wikimedia.org/wikipedia/commons/thumb/7/78/Definition_of_Free_Cultural_Works_logo_notext.svg/24px-Definition_of_Free_Cultural_Works_logo_notext.svg.png 2x\" width=\"12\"/>,\n",
       " <img alt=\"\" data-file-height=\"391\" data-file-width=\"391\" decoding=\"async\" height=\"27\" src=\"//upload.wikimedia.org/wikipedia/en/thumb/0/06/Wiktionary-logo-v2.svg/27px-Wiktionary-logo-v2.svg.png\" srcset=\"//upload.wikimedia.org/wikipedia/en/thumb/0/06/Wiktionary-logo-v2.svg/41px-Wiktionary-logo-v2.svg.png 1.5x, //upload.wikimedia.org/wikipedia/en/thumb/0/06/Wiktionary-logo-v2.svg/54px-Wiktionary-logo-v2.svg.png 2x\" style=\"vertical-align: middle\" width=\"27\"/>,\n",
       " <img alt=\"\" data-file-height=\"1376\" data-file-width=\"1024\" decoding=\"async\" height=\"27\" src=\"//upload.wikimedia.org/wikipedia/en/thumb/4/4a/Commons-logo.svg/20px-Commons-logo.svg.png\" srcset=\"//upload.wikimedia.org/wikipedia/en/thumb/4/4a/Commons-logo.svg/30px-Commons-logo.svg.png 1.5x, //upload.wikimedia.org/wikipedia/en/thumb/4/4a/Commons-logo.svg/40px-Commons-logo.svg.png 2x\" style=\"vertical-align: middle\" width=\"20\"/>,\n",
       " <img alt=\"\" data-file-height=\"355\" data-file-width=\"300\" decoding=\"async\" height=\"27\" src=\"//upload.wikimedia.org/wikipedia/commons/thumb/f/fa/Wikiquote-logo.svg/23px-Wikiquote-logo.svg.png\" srcset=\"//upload.wikimedia.org/wikipedia/commons/thumb/f/fa/Wikiquote-logo.svg/35px-Wikiquote-logo.svg.png 1.5x, //upload.wikimedia.org/wikipedia/commons/thumb/f/fa/Wikiquote-logo.svg/46px-Wikiquote-logo.svg.png 2x\" style=\"vertical-align: middle\" width=\"23\"/>,\n",
       " <img alt=\"\" data-file-height=\"300\" data-file-width=\"300\" decoding=\"async\" height=\"27\" src=\"//upload.wikimedia.org/wikipedia/commons/thumb/f/fa/Wikibooks-logo.svg/27px-Wikibooks-logo.svg.png\" srcset=\"//upload.wikimedia.org/wikipedia/commons/thumb/f/fa/Wikibooks-logo.svg/41px-Wikibooks-logo.svg.png 1.5x, //upload.wikimedia.org/wikipedia/commons/thumb/f/fa/Wikibooks-logo.svg/54px-Wikibooks-logo.svg.png 2x\" style=\"vertical-align: middle\" width=\"27\"/>,\n",
       " <img alt=\"\" data-file-height=\"512\" data-file-width=\"626\" decoding=\"async\" height=\"22\" src=\"//upload.wikimedia.org/wikipedia/commons/thumb/0/0b/Wikiversity_logo_2017.svg/27px-Wikiversity_logo_2017.svg.png\" srcset=\"//upload.wikimedia.org/wikipedia/commons/thumb/0/0b/Wikiversity_logo_2017.svg/41px-Wikiversity_logo_2017.svg.png 1.5x, //upload.wikimedia.org/wikipedia/commons/thumb/0/0b/Wikiversity_logo_2017.svg/54px-Wikiversity_logo_2017.svg.png 2x\" style=\"vertical-align: middle\" width=\"27\"/>,\n",
       " <img alt=\"\" data-file-height=\"590\" data-file-width=\"1050\" decoding=\"async\" height=\"15\" src=\"//upload.wikimedia.org/wikipedia/commons/thumb/f/ff/Wikidata-logo.svg/27px-Wikidata-logo.svg.png\" srcset=\"//upload.wikimedia.org/wikipedia/commons/thumb/f/ff/Wikidata-logo.svg/41px-Wikidata-logo.svg.png 1.5x, //upload.wikimedia.org/wikipedia/commons/thumb/f/ff/Wikidata-logo.svg/54px-Wikidata-logo.svg.png 2x\" style=\"vertical-align: middle\" width=\"27\"/>,\n",
       " <img alt=\"\" class=\"noviewer\" data-file-height=\"500\" data-file-width=\"326\" decoding=\"async\" height=\"28\" src=\"//upload.wikimedia.org/wikipedia/commons/thumb/c/cd/Socrates.png/18px-Socrates.png\" srcset=\"//upload.wikimedia.org/wikipedia/commons/thumb/c/cd/Socrates.png/27px-Socrates.png 1.5x, //upload.wikimedia.org/wikipedia/commons/thumb/c/cd/Socrates.png/36px-Socrates.png 2x\" width=\"18\"/>,\n",
       " <img alt=\"icon\" class=\"noviewer\" data-file-height=\"128\" data-file-width=\"128\" decoding=\"async\" height=\"28\" src=\"//upload.wikimedia.org/wikipedia/commons/thumb/8/8b/Nuvola_apps_kalzium.svg/28px-Nuvola_apps_kalzium.svg.png\" srcset=\"//upload.wikimedia.org/wikipedia/commons/thumb/8/8b/Nuvola_apps_kalzium.svg/42px-Nuvola_apps_kalzium.svg.png 1.5x, //upload.wikimedia.org/wikipedia/commons/thumb/8/8b/Nuvola_apps_kalzium.svg/56px-Nuvola_apps_kalzium.svg.png 2x\" width=\"28\"/>,\n",
       " <img alt=\"\" class=\"noviewer\" data-file-height=\"185\" data-file-width=\"180\" decoding=\"async\" height=\"16\" src=\"//upload.wikimedia.org/wikipedia/en/thumb/e/e2/Symbol_portal_class.svg/16px-Symbol_portal_class.svg.png\" srcset=\"//upload.wikimedia.org/wikipedia/en/thumb/e/e2/Symbol_portal_class.svg/23px-Symbol_portal_class.svg.png 1.5x, //upload.wikimedia.org/wikipedia/en/thumb/e/e2/Symbol_portal_class.svg/31px-Symbol_portal_class.svg.png 2x\" width=\"16\"/>,\n",
       " <img alt=\"\" class=\"noviewer\" data-file-height=\"185\" data-file-width=\"180\" decoding=\"async\" height=\"16\" src=\"//upload.wikimedia.org/wikipedia/en/thumb/9/96/Symbol_category_class.svg/16px-Symbol_category_class.svg.png\" srcset=\"//upload.wikimedia.org/wikipedia/en/thumb/9/96/Symbol_category_class.svg/23px-Symbol_category_class.svg.png 1.5x, //upload.wikimedia.org/wikipedia/en/thumb/9/96/Symbol_category_class.svg/31px-Symbol_category_class.svg.png 2x\" title=\"Category\" width=\"16\"/>,\n",
       " <img alt=\"Computer Retro.svg\" data-file-height=\"512\" data-file-width=\"512\" decoding=\"async\" height=\"50\" src=\"//upload.wikimedia.org/wikipedia/commons/thumb/5/51/Computer_Retro.svg/50px-Computer_Retro.svg.png\" srcset=\"//upload.wikimedia.org/wikipedia/commons/thumb/5/51/Computer_Retro.svg/75px-Computer_Retro.svg.png 1.5x, //upload.wikimedia.org/wikipedia/commons/thumb/5/51/Computer_Retro.svg/100px-Computer_Retro.svg.png 2x\" width=\"50\"/>,\n",
       " <img alt=\"\" class=\"noviewer\" data-file-height=\"185\" data-file-width=\"180\" decoding=\"async\" height=\"16\" src=\"//upload.wikimedia.org/wikipedia/en/thumb/9/96/Symbol_category_class.svg/16px-Symbol_category_class.svg.png\" srcset=\"//upload.wikimedia.org/wikipedia/en/thumb/9/96/Symbol_category_class.svg/23px-Symbol_category_class.svg.png 1.5x, //upload.wikimedia.org/wikipedia/en/thumb/9/96/Symbol_category_class.svg/31px-Symbol_category_class.svg.png 2x\" title=\"Category\" width=\"16\"/>,\n",
       " <img alt=\"\" class=\"noviewer\" data-file-height=\"200\" data-file-width=\"130\" decoding=\"async\" height=\"16\" src=\"//upload.wikimedia.org/wikipedia/commons/thumb/4/41/Global_thinking.svg/10px-Global_thinking.svg.png\" srcset=\"//upload.wikimedia.org/wikipedia/commons/thumb/4/41/Global_thinking.svg/15px-Global_thinking.svg.png 1.5x, //upload.wikimedia.org/wikipedia/commons/thumb/4/41/Global_thinking.svg/21px-Global_thinking.svg.png 2x\" title=\"Outline\" width=\"10\"/>,\n",
       " <img alt=\"\" class=\"noviewer\" data-file-height=\"100\" data-file-width=\"100\" decoding=\"async\" height=\"16\" src=\"//upload.wikimedia.org/wikipedia/commons/thumb/3/37/People_icon.svg/16px-People_icon.svg.png\" srcset=\"//upload.wikimedia.org/wikipedia/commons/thumb/3/37/People_icon.svg/24px-People_icon.svg.png 1.5x, //upload.wikimedia.org/wikipedia/commons/thumb/3/37/People_icon.svg/32px-People_icon.svg.png 2x\" title=\"WikiProject\" width=\"16\"/>,\n",
       " <img alt=\"\" class=\"noviewer\" data-file-height=\"1376\" data-file-width=\"1024\" decoding=\"async\" height=\"16\" src=\"//upload.wikimedia.org/wikipedia/en/thumb/4/4a/Commons-logo.svg/12px-Commons-logo.svg.png\" srcset=\"//upload.wikimedia.org/wikipedia/en/thumb/4/4a/Commons-logo.svg/18px-Commons-logo.svg.png 1.5x, //upload.wikimedia.org/wikipedia/en/thumb/4/4a/Commons-logo.svg/24px-Commons-logo.svg.png 2x\" title=\"Commons page\" width=\"12\"/>,\n",
       " <img alt=\"\" class=\"noviewer\" data-file-height=\"185\" data-file-width=\"180\" decoding=\"async\" height=\"16\" src=\"//upload.wikimedia.org/wikipedia/en/thumb/9/96/Symbol_category_class.svg/16px-Symbol_category_class.svg.png\" srcset=\"//upload.wikimedia.org/wikipedia/en/thumb/9/96/Symbol_category_class.svg/23px-Symbol_category_class.svg.png 1.5x, //upload.wikimedia.org/wikipedia/en/thumb/9/96/Symbol_category_class.svg/31px-Symbol_category_class.svg.png 2x\" title=\"Category\" width=\"16\"/>,\n",
       " <img alt=\"\" class=\"noviewer\" data-file-height=\"185\" data-file-width=\"180\" decoding=\"async\" height=\"16\" src=\"//upload.wikimedia.org/wikipedia/en/thumb/d/db/Symbol_list_class.svg/16px-Symbol_list_class.svg.png\" srcset=\"//upload.wikimedia.org/wikipedia/en/thumb/d/db/Symbol_list_class.svg/23px-Symbol_list_class.svg.png 1.5x, //upload.wikimedia.org/wikipedia/en/thumb/d/db/Symbol_list_class.svg/31px-Symbol_list_class.svg.png 2x\" title=\"List-Class article\" width=\"16\"/>,\n",
       " <img alt=\"Shadow Hand Bulb large.jpg\" data-file-height=\"3840\" data-file-width=\"2560\" decoding=\"async\" height=\"150\" src=\"//upload.wikimedia.org/wikipedia/commons/thumb/c/c5/Shadow_Hand_Bulb_large.jpg/100px-Shadow_Hand_Bulb_large.jpg\" srcset=\"//upload.wikimedia.org/wikipedia/commons/thumb/c/c5/Shadow_Hand_Bulb_large.jpg/150px-Shadow_Hand_Bulb_large.jpg 1.5x, //upload.wikimedia.org/wikipedia/commons/thumb/c/c5/Shadow_Hand_Bulb_large.jpg/200px-Shadow_Hand_Bulb_large.jpg 2x\" width=\"100\"/>,\n",
       " <img alt=\"\" class=\"noviewer\" data-file-height=\"185\" data-file-width=\"180\" decoding=\"async\" height=\"16\" src=\"//upload.wikimedia.org/wikipedia/en/thumb/9/96/Symbol_category_class.svg/16px-Symbol_category_class.svg.png\" srcset=\"//upload.wikimedia.org/wikipedia/en/thumb/9/96/Symbol_category_class.svg/23px-Symbol_category_class.svg.png 1.5x, //upload.wikimedia.org/wikipedia/en/thumb/9/96/Symbol_category_class.svg/31px-Symbol_category_class.svg.png 2x\" title=\"Category\" width=\"16\"/>,\n",
       " <img alt=\"\" class=\"noviewer\" data-file-height=\"200\" data-file-width=\"130\" decoding=\"async\" height=\"16\" src=\"//upload.wikimedia.org/wikipedia/commons/thumb/4/41/Global_thinking.svg/10px-Global_thinking.svg.png\" srcset=\"//upload.wikimedia.org/wikipedia/commons/thumb/4/41/Global_thinking.svg/15px-Global_thinking.svg.png 1.5x, //upload.wikimedia.org/wikipedia/commons/thumb/4/41/Global_thinking.svg/21px-Global_thinking.svg.png 2x\" title=\"Outline\" width=\"10\"/>,\n",
       " <img alt=\"\" class=\"noviewer\" data-file-height=\"185\" data-file-width=\"180\" decoding=\"async\" height=\"16\" src=\"//upload.wikimedia.org/wikipedia/en/thumb/9/96/Symbol_category_class.svg/16px-Symbol_category_class.svg.png\" srcset=\"//upload.wikimedia.org/wikipedia/en/thumb/9/96/Symbol_category_class.svg/23px-Symbol_category_class.svg.png 1.5x, //upload.wikimedia.org/wikipedia/en/thumb/9/96/Symbol_category_class.svg/31px-Symbol_category_class.svg.png 2x\" title=\"Category\" width=\"16\"/>,\n",
       " <img alt=\"Edit this at Wikidata\" class=\"noprint\" data-file-height=\"20\" data-file-width=\"20\" decoding=\"async\" height=\"10\" src=\"//upload.wikimedia.org/wikipedia/en/thumb/8/8a/OOjs_UI_icon_edit-ltr-progressive.svg/10px-OOjs_UI_icon_edit-ltr-progressive.svg.png\" srcset=\"//upload.wikimedia.org/wikipedia/en/thumb/8/8a/OOjs_UI_icon_edit-ltr-progressive.svg/15px-OOjs_UI_icon_edit-ltr-progressive.svg.png 1.5x, //upload.wikimedia.org/wikipedia/en/thumb/8/8a/OOjs_UI_icon_edit-ltr-progressive.svg/20px-OOjs_UI_icon_edit-ltr-progressive.svg.png 2x\" style=\"vertical-align: text-top\" width=\"10\"/>,\n",
       " <img alt=\"\" height=\"1\" src=\"//en.wikipedia.org/wiki/Special:CentralAutoLogin/start?type=1x1\" style=\"border: none; position: absolute;\" title=\"\" width=\"1\"/>,\n",
       " <img alt=\"Wikimedia Foundation\" height=\"31\" loading=\"lazy\" src=\"/static/images/footer/wikimedia-button.png\" srcset=\"/static/images/footer/wikimedia-button-1.5x.png 1.5x, /static/images/footer/wikimedia-button-2x.png 2x\" width=\"88\"/>,\n",
       " <img alt=\"Powered by MediaWiki\" height=\"31\" loading=\"lazy\" src=\"/static/images/footer/poweredby_mediawiki_88x31.png\" srcset=\"/static/images/footer/poweredby_mediawiki_132x47.png 1.5x, /static/images/footer/poweredby_mediawiki_176x62.png 2x\" width=\"88\"/>]"
      ]
     },
     "execution_count": 20,
     "metadata": {},
     "output_type": "execute_result"
    }
   ],
   "source": [
    "bsp.select('img')"
   ]
  },
  {
   "cell_type": "code",
   "execution_count": 21,
   "metadata": {},
   "outputs": [],
   "source": [
    "import wikipedia \n",
    "from pprint import pprint"
   ]
  },
  {
   "cell_type": "code",
   "execution_count": 22,
   "metadata": {},
   "outputs": [
    {
     "data": {
      "text/plain": [
       "['Artificial intelligence',\n",
       " 'A.I. Artificial Intelligence',\n",
       " 'Artificial general intelligence',\n",
       " 'Artificial intelligence art',\n",
       " 'Applications of artificial intelligence',\n",
       " 'History of artificial intelligence',\n",
       " 'Ethics of artificial intelligence',\n",
       " 'Swarm intelligence',\n",
       " 'Explainable artificial intelligence',\n",
       " 'Philosophy of artificial intelligence']"
      ]
     },
     "execution_count": 22,
     "metadata": {},
     "output_type": "execute_result"
    }
   ],
   "source": [
    "wikipedia.search('artificial intelligence')"
   ]
  },
  {
   "cell_type": "code",
   "execution_count": 25,
   "metadata": {},
   "outputs": [],
   "source": [
    "wk_ai = wikipedia.page(wikipedia.search('artificial intelligence')[0])"
   ]
  },
  {
   "cell_type": "code",
   "execution_count": 26,
   "metadata": {},
   "outputs": [
    {
     "data": {
      "text/plain": [
       "'Artificial intelligence'"
      ]
     },
     "execution_count": 26,
     "metadata": {},
     "output_type": "execute_result"
    }
   ],
   "source": [
    "wk_ai.title"
   ]
  },
  {
   "cell_type": "code",
   "execution_count": 28,
   "metadata": {},
   "outputs": [
    {
     "data": {
      "text/plain": [
       "['https://upload.wikimedia.org/wikipedia/commons/f/f3/AI_Patent_families_for_functional_application_categories_and_sub_categories.png',\n",
       " 'https://upload.wikimedia.org/wikipedia/commons/7/7a/Anatomy-1751201_1280.png',\n",
       " 'https://upload.wikimedia.org/wikipedia/commons/e/e4/Artificial_neural_network.svg',\n",
       " 'https://upload.wikimedia.org/wikipedia/commons/8/87/Capek_play.jpg',\n",
       " 'https://upload.wikimedia.org/wikipedia/commons/5/51/Computer_Retro.svg',\n",
       " 'https://upload.wikimedia.org/wikipedia/commons/2/26/Deep_Learning.jpg',\n",
       " 'https://upload.wikimedia.org/wikipedia/commons/7/78/Definition_of_Free_Cultural_Works_logo_notext.svg',\n",
       " 'https://upload.wikimedia.org/wikipedia/commons/c/c8/Didrachm_Phaistos_obverse_CdM.jpg',\n",
       " 'https://upload.wikimedia.org/wikipedia/commons/6/69/EM_Clustering_of_Old_Faithful_data.gif',\n",
       " 'https://upload.wikimedia.org/wikipedia/commons/9/9e/GFO_taxonomy_tree.png',\n",
       " 'https://upload.wikimedia.org/wikipedia/commons/4/41/Global_thinking.svg',\n",
       " 'https://upload.wikimedia.org/wikipedia/commons/1/13/Joseph_Ayerle_portrait_of_Ornella_Muti_%28detail%29%2C_calculated_by_Artificial_Intelligence_%28AI%29_technology.jpg',\n",
       " 'https://upload.wikimedia.org/wikipedia/commons/b/b8/Kismet_robot_at_MIT_Museum.jpg',\n",
       " 'https://upload.wikimedia.org/wikipedia/commons/8/8b/Nuvola_apps_kalzium.svg',\n",
       " 'https://upload.wikimedia.org/wikipedia/commons/6/6f/Octicons-terminal.svg',\n",
       " 'https://upload.wikimedia.org/wikipedia/commons/6/6e/ParseTree.svg',\n",
       " 'https://upload.wikimedia.org/wikipedia/commons/e/ec/ParticleSwarmArrowsAnimation.gif',\n",
       " 'https://upload.wikimedia.org/wikipedia/commons/3/37/People_icon.svg',\n",
       " 'https://upload.wikimedia.org/wikipedia/commons/c/c5/Shadow_Hand_Bulb_large.jpg',\n",
       " 'https://upload.wikimedia.org/wikipedia/commons/c/cd/Socrates.png',\n",
       " 'https://upload.wikimedia.org/wikipedia/commons/f/fa/Wikibooks-logo.svg',\n",
       " 'https://upload.wikimedia.org/wikipedia/commons/f/ff/Wikidata-logo.svg',\n",
       " 'https://upload.wikimedia.org/wikipedia/commons/f/fa/Wikiquote-logo.svg',\n",
       " 'https://upload.wikimedia.org/wikipedia/commons/0/0b/Wikiversity_logo_2017.svg',\n",
       " 'https://upload.wikimedia.org/wikipedia/commons/2/20/%C3%84%C3%A4retuvastuse_n%C3%A4ide.png',\n",
       " 'https://upload.wikimedia.org/wikipedia/en/4/4a/Commons-logo.svg',\n",
       " 'https://upload.wikimedia.org/wikipedia/en/f/f2/Edit-clear.svg',\n",
       " 'https://upload.wikimedia.org/wikipedia/en/8/8a/OOjs_UI_icon_edit-ltr-progressive.svg',\n",
       " 'https://upload.wikimedia.org/wikipedia/en/1/1b/Semi-protection-shackle.svg',\n",
       " 'https://upload.wikimedia.org/wikipedia/en/9/96/Symbol_category_class.svg',\n",
       " 'https://upload.wikimedia.org/wikipedia/en/d/db/Symbol_list_class.svg',\n",
       " 'https://upload.wikimedia.org/wikipedia/en/e/e2/Symbol_portal_class.svg',\n",
       " 'https://upload.wikimedia.org/wikipedia/en/0/06/Wiktionary-logo-v2.svg']"
      ]
     },
     "execution_count": 28,
     "metadata": {},
     "output_type": "execute_result"
    }
   ],
   "source": [
    "wk_ai.images"
   ]
  },
  {
   "cell_type": "code",
   "execution_count": 29,
   "metadata": {},
   "outputs": [
    {
     "data": {
      "text/plain": [
       "['_WikipediaPage__continued_query',\n",
       " '_WikipediaPage__load',\n",
       " '_WikipediaPage__title_query_param',\n",
       " '__class__',\n",
       " '__delattr__',\n",
       " '__dict__',\n",
       " '__dir__',\n",
       " '__doc__',\n",
       " '__eq__',\n",
       " '__format__',\n",
       " '__ge__',\n",
       " '__getattribute__',\n",
       " '__gt__',\n",
       " '__hash__',\n",
       " '__init__',\n",
       " '__init_subclass__',\n",
       " '__le__',\n",
       " '__lt__',\n",
       " '__module__',\n",
       " '__ne__',\n",
       " '__new__',\n",
       " '__reduce__',\n",
       " '__reduce_ex__',\n",
       " '__repr__',\n",
       " '__setattr__',\n",
       " '__sizeof__',\n",
       " '__str__',\n",
       " '__subclasshook__',\n",
       " '__weakref__',\n",
       " '_images',\n",
       " '_summary',\n",
       " 'categories',\n",
       " 'content',\n",
       " 'coordinates',\n",
       " 'html',\n",
       " 'images',\n",
       " 'links',\n",
       " 'original_title',\n",
       " 'pageid',\n",
       " 'parent_id',\n",
       " 'references',\n",
       " 'revision_id',\n",
       " 'section',\n",
       " 'sections',\n",
       " 'summary',\n",
       " 'title',\n",
       " 'url']"
      ]
     },
     "execution_count": 29,
     "metadata": {},
     "output_type": "execute_result"
    }
   ],
   "source": [
    "dir(wk_ai)"
   ]
  },
  {
   "cell_type": "code",
   "execution_count": 31,
   "metadata": {},
   "outputs": [
    {
     "data": {
      "text/plain": [
       "'https://en.wikipedia.org/wiki/Artificial_intelligence'"
      ]
     },
     "execution_count": 31,
     "metadata": {},
     "output_type": "execute_result"
    }
   ],
   "source": [
    "wk_ai.url"
   ]
  },
  {
   "cell_type": "code",
   "execution_count": null,
   "metadata": {},
   "outputs": [],
   "source": []
  }
 ],
 "metadata": {
  "kernelspec": {
   "display_name": "Python 3.10.4 ('pip_env')",
   "language": "python",
   "name": "python3"
  },
  "language_info": {
   "codemirror_mode": {
    "name": "ipython",
    "version": 3
   },
   "file_extension": ".py",
   "mimetype": "text/x-python",
   "name": "python",
   "nbconvert_exporter": "python",
   "pygments_lexer": "ipython3",
   "version": "3.10.4"
  },
  "orig_nbformat": 4,
  "vscode": {
   "interpreter": {
    "hash": "6bfde487b7068c7452acbc519e46294a0b346140fa3737a61e25c82885589230"
   }
  }
 },
 "nbformat": 4,
 "nbformat_minor": 2
}
